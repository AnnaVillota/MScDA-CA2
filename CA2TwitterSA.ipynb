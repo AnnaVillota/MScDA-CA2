{
 "cells": [
  {
   "cell_type": "code",
   "execution_count": 1,
   "id": "da3d3e8f",
   "metadata": {},
   "outputs": [
    {
     "data": {
      "text/html": [
       "<div>\n",
       "<style scoped>\n",
       "    .dataframe tbody tr th:only-of-type {\n",
       "        vertical-align: middle;\n",
       "    }\n",
       "\n",
       "    .dataframe tbody tr th {\n",
       "        vertical-align: top;\n",
       "    }\n",
       "\n",
       "    .dataframe thead th {\n",
       "        text-align: right;\n",
       "    }\n",
       "</style>\n",
       "<table border=\"1\" class=\"dataframe\">\n",
       "  <thead>\n",
       "    <tr style=\"text-align: right;\">\n",
       "      <th></th>\n",
       "      <th>timestamp</th>\n",
       "      <th>tweet_text</th>\n",
       "      <th>username</th>\n",
       "      <th>all_hashtags</th>\n",
       "      <th>location</th>\n",
       "      <th>followers_count</th>\n",
       "      <th>retweet_count</th>\n",
       "      <th>favorite_count</th>\n",
       "    </tr>\n",
       "  </thead>\n",
       "  <tbody>\n",
       "    <tr>\n",
       "      <th>0</th>\n",
       "      <td>2022-05-15 13:48:49+00:00</td>\n",
       "      <td>b'@matthewkrier The one in Burnsville is lit. ...</td>\n",
       "      <td>b'briperry29'</td>\n",
       "      <td>[]</td>\n",
       "      <td>Farmington, MN</td>\n",
       "      <td>48</td>\n",
       "      <td>0</td>\n",
       "      <td>0</td>\n",
       "    </tr>\n",
       "    <tr>\n",
       "      <th>1</th>\n",
       "      <td>2022-05-15 13:33:07+00:00</td>\n",
       "      <td>b'@Itszizobaby 1/ My argument is simple, Conor...</td>\n",
       "      <td>b'ConnorNAllen'</td>\n",
       "      <td>[]</td>\n",
       "      <td>Cardiff, Wales</td>\n",
       "      <td>137</td>\n",
       "      <td>0</td>\n",
       "      <td>0</td>\n",
       "    </tr>\n",
       "    <tr>\n",
       "      <th>2</th>\n",
       "      <td>2022-05-15 13:31:41+00:00</td>\n",
       "      <td>b'Tender: Bord Bia (Irish Food Board) EU Beef ...</td>\n",
       "      <td>b'IrelandTicker'</td>\n",
       "      <td>[]</td>\n",
       "      <td>NaN</td>\n",
       "      <td>480</td>\n",
       "      <td>0</td>\n",
       "      <td>0</td>\n",
       "    </tr>\n",
       "    <tr>\n",
       "      <th>3</th>\n",
       "      <td>2022-05-15 13:30:02+00:00</td>\n",
       "      <td>b'Mouth-watering beef soba noodles by Irish fo...</td>\n",
       "      <td>b'image_magazine'</td>\n",
       "      <td>[]</td>\n",
       "      <td>Ireland</td>\n",
       "      <td>36609</td>\n",
       "      <td>0</td>\n",
       "      <td>0</td>\n",
       "    </tr>\n",
       "    <tr>\n",
       "      <th>4</th>\n",
       "      <td>2022-05-15 12:31:57+00:00</td>\n",
       "      <td>b\"\\xf0\\x9f\\x91\\x8d\\xf0\\x9f\\x8f\\xbd use pork la...</td>\n",
       "      <td>b'rjpark'</td>\n",
       "      <td>[]</td>\n",
       "      <td>iPhone: 54.518932,-1.547398</td>\n",
       "      <td>17280</td>\n",
       "      <td>0</td>\n",
       "      <td>0</td>\n",
       "    </tr>\n",
       "  </tbody>\n",
       "</table>\n",
       "</div>"
      ],
      "text/plain": [
       "                   timestamp  \\\n",
       "0  2022-05-15 13:48:49+00:00   \n",
       "1  2022-05-15 13:33:07+00:00   \n",
       "2  2022-05-15 13:31:41+00:00   \n",
       "3  2022-05-15 13:30:02+00:00   \n",
       "4  2022-05-15 12:31:57+00:00   \n",
       "\n",
       "                                          tweet_text           username  \\\n",
       "0  b'@matthewkrier The one in Burnsville is lit. ...      b'briperry29'   \n",
       "1  b'@Itszizobaby 1/ My argument is simple, Conor...    b'ConnorNAllen'   \n",
       "2  b'Tender: Bord Bia (Irish Food Board) EU Beef ...   b'IrelandTicker'   \n",
       "3  b'Mouth-watering beef soba noodles by Irish fo...  b'image_magazine'   \n",
       "4  b\"\\xf0\\x9f\\x91\\x8d\\xf0\\x9f\\x8f\\xbd use pork la...          b'rjpark'   \n",
       "\n",
       "  all_hashtags                     location  followers_count  retweet_count  \\\n",
       "0           []               Farmington, MN               48              0   \n",
       "1           []               Cardiff, Wales              137              0   \n",
       "2           []                          NaN              480              0   \n",
       "3           []                      Ireland            36609              0   \n",
       "4           []  iPhone: 54.518932,-1.547398            17280              0   \n",
       "\n",
       "   favorite_count  \n",
       "0               0  \n",
       "1               0  \n",
       "2               0  \n",
       "3               0  \n",
       "4               0  "
      ]
     },
     "execution_count": 1,
     "metadata": {},
     "output_type": "execute_result"
    }
   ],
   "source": [
    "import pandas as pd\n",
    "import nltk\n",
    "\n",
    "import warnings\n",
    "warnings.filterwarnings('ignore') # We can suppress the warnings\n",
    "\n",
    "# Load the Tweets.csv file into an object object\n",
    "ie_beef=pd.read_csv('dataset.csv')\n",
    "\n",
    "# Display the first five records\n",
    "ie_beef.head()"
   ]
  },
  {
   "cell_type": "code",
   "execution_count": 2,
   "id": "13085ad5",
   "metadata": {},
   "outputs": [
    {
     "data": {
      "text/plain": [
       "(186, 8)"
      ]
     },
     "execution_count": 2,
     "metadata": {},
     "output_type": "execute_result"
    }
   ],
   "source": [
    "# Display the rows and columns\n",
    "ie_beef.shape"
   ]
  },
  {
   "cell_type": "code",
   "execution_count": 3,
   "id": "4deb7c02",
   "metadata": {},
   "outputs": [],
   "source": [
    "# adding the Polarity column\n",
    "ie_beef['Polarity_Rating'] = ie_beef['retweet_count'].apply(lambda x: 'Positive' if x > 3 else('Neutral' if x == 3  else 'Negative'))"
   ]
  },
  {
   "cell_type": "code",
   "execution_count": 4,
   "id": "5998f842",
   "metadata": {},
   "outputs": [
    {
     "name": "stdout",
     "output_type": "stream",
     "text": [
      "0      b'@matthewkrier The one in Burnsville is lit. ...\n",
      "1      b'@Itszizobaby 1/ My argument is simple, Conor...\n",
      "2      b'Tender: Bord Bia (Irish Food Board) EU Beef ...\n",
      "3      b'Mouth-watering beef soba noodles by Irish fo...\n",
      "4      b\"\\xf0\\x9f\\x91\\x8d\\xf0\\x9f\\x8f\\xbd use pork la...\n",
      "                             ...                        \n",
      "181    b'@gunneroo @higginsbutchers Let me know what ...\n",
      "182                              b'@bnwkr Fortnite beef'\n",
      "183    b'@bubbacdubbya @PaigeLover4Ever @theIWCunhing...\n",
      "184    b'@BorisJohnson whats wrong with British and I...\n",
      "185    b'Steak + BBQ = \\xf0\\x9f\\x98\\x8b\\xf0\\x9f\\x91\\x...\n",
      "Name: tweet_text, Length: 186, dtype: object\n"
     ]
    }
   ],
   "source": [
    "# Store the column of the dataframe named as \"tweet_text\"\n",
    "X = ie_beef['tweet_text']\n",
    "\n",
    "# Display the value \"X\"\n",
    "print(X)"
   ]
  },
  {
   "cell_type": "code",
   "execution_count": 5,
   "id": "64ffab24",
   "metadata": {},
   "outputs": [
    {
     "name": "stdout",
     "output_type": "stream",
     "text": [
      "0      Negative\n",
      "1      Negative\n",
      "2      Negative\n",
      "3      Negative\n",
      "4      Negative\n",
      "         ...   \n",
      "181    Negative\n",
      "182    Negative\n",
      "183    Negative\n",
      "184    Negative\n",
      "185    Negative\n",
      "Name: Polarity_Rating, Length: 186, dtype: object\n"
     ]
    }
   ],
   "source": [
    "# Store the column if the dataframe named as  \"Polarity_Rating\"\n",
    "y = ie_beef['Polarity_Rating']\n",
    "\n",
    "# Display the column of the dataframe named as \"Polarity_Rating\"\n",
    "print(y)"
   ]
  },
  {
   "cell_type": "code",
   "execution_count": 6,
   "id": "e979760f",
   "metadata": {},
   "outputs": [
    {
     "name": "stderr",
     "output_type": "stream",
     "text": [
      "[nltk_data] Downloading package stopwords to\n",
      "[nltk_data]     C:\\Users\\Anna\\AppData\\Roaming\\nltk_data...\n",
      "[nltk_data]   Package stopwords is already up-to-date!\n"
     ]
    }
   ],
   "source": [
    "# importing libraries\n",
    "from nltk.corpus import stopwords\n",
    "nltk.download('stopwords')\n",
    "\n",
    "import string\n",
    "from nltk.stem import PorterStemmer"
   ]
  },
  {
   "cell_type": "code",
   "execution_count": 7,
   "id": "434090d9",
   "metadata": {},
   "outputs": [],
   "source": [
    "# Storing stopwords into the object named as \"stop_words\"\n",
    "stop_words = stopwords.words('english')\n",
    "\n",
    "# Store the string.punctuation into an object punct\n",
    "punct = string.punctuation\n",
    "\n",
    "# Initialise an object using a method PorterStemmer\n",
    "stemmer = PorterStemmer()"
   ]
  },
  {
   "cell_type": "code",
   "execution_count": 8,
   "id": "30d491a9",
   "metadata": {},
   "outputs": [],
   "source": [
    "import re\n",
    "\n",
    "cleaned_data=[]\n",
    "\n",
    "# For loop from first value to length(X), ^a-zA-Z means include small and capital case letters\n",
    "\n",
    "for i in range(len(X)):\n",
    "    tweet = re.sub('[^a-zA-Z]', ' ', X.iloc[i])\n",
    "    tweet = tweet.lower().split()\n",
    "    tweet = [stemmer.stem(word) for word in tweet if (word not in stop_words) and (word not in punct)]\n",
    "    tweet = ' '.join(tweet)\n",
    "    cleaned_data.append(tweet)"
   ]
  },
  {
   "cell_type": "code",
   "execution_count": 9,
   "id": "69c8ec1c",
   "metadata": {},
   "outputs": [
    {
     "data": {
      "text/plain": [
       "['b matthewkri one burnsvil lit get irish souffl xc xa corn beef hash lot chees',\n",
       " 'b itszizobabi argument simpl conor irish whiskey drink ufc fighter famous beef khabib famou love money think unlik love bin zay come respect person leader find much like',\n",
       " 'b tender bord bia irish food board eu beef lamb campaign evalu http co yh b ju',\n",
       " 'b mouth water beef soba noodl irish food lifestyl photograph kati quinn http co fppoqrt iy',\n",
       " 'b xf x f x x xf x f x f xbd use pork lard beef drip xf x f x x xf x f x f xbd buy local fish diversifi xf x f x x xf x f x f xbd buy irish potato http co egdin ekym food shortag could forc third fish chip shop close http co vvxvymp',\n",
       " 'b restaur loo play record someon read peter pan german also menu tri upsel choos irish beef xf x f x xae http co tnjljvzu',\n",
       " 'b duskkeyi damn that includ irish beef tat xf x f xa xa',\n",
       " 'b delex laurnorman helenebismarck sime nstylit trussliz mad think could end easier move brazilian pork nz lamb ni move irish beef derri doneg current uk antic forc form hard land border ni beef abl irish beef',\n",
       " 'b sheepleepltd janetmulkey gruntvegan irish ferri shoot calv ireland sent slaughter week old actual wors major male dairi calv rear beef export kill reduc herd cattl human',\n",
       " 'b sunday roast tender roast rib irish black angu beef carrot broccoli crispi roast potato yorkshir pud famou beef ju gravi new kid menu avail open pm http co fovntn pr',\n",
       " 'b lb natur beef burger honeywheat bun irish age cheddar honey dijon grill pineappl smoke bacon burger nom',\n",
       " 'b totalitarian china buy irish beef infant milk formula xe x x also buy irish govern xe x x silenc acquiesc time heinou human right abus commit name ruthless ccp regim http co u arpoccuh',\n",
       " 'b lonerganroy kevinhorourk also miss point market integr matter volum damag say irish beef industri caus smuggl van load inferior product eg australian hormon franc label irish could catastroph wors eg genuin british bse beef',\n",
       " 'b dannydonnelli inde global ban british beef due mad cow diseas want ni beef classifi irish gb total separ market cours',\n",
       " 'b maureenrog retrocron food network show irish american nyc adopt corn beef cabbag jew irish friend said use differ meat ireland love banger amp mash late dad btw trump think banger amp mash militari strategi',\n",
       " 'b castlvillageman davidghfrost xe x x cwe could ruin beef industri xe x x yeah like xe x x sit back let happen xf x f x x http co vnz kpwnbj',\n",
       " 'b nilegardin danieljhannan initi target sanction specif margin conserv seat anyth similar immedi slap tariff say irish beef tariff french wine amp xe x x hit home put tariff french agricultur product amp',\n",
       " 'b go get shearer turn irish corn beef http co vtqsykhbk',\n",
       " 'b irish survey identifi three factori sourc beef product contamin adulter silvercrest food ireland dalepak yorkshir liffey meat ireland silvercrest dalepak subsidiari abp food group',\n",
       " 'b samapril tipployalist jaymaceoin tirchonaillabu xe x x cglobal xe x x britain figment ne irish loyalist xe x x imagin recent seal deal faro xe x xa pilot whale steak replac irish beef xe x xa comedi endless xf x f x x xf x f x x',\n",
       " 'b castlvillageman true howev increas popular irish beef mainli come expens angu beef previou favourit premium beef long time',\n",
       " 'b castlvillageman anecdot notic steadi increas popular irish beef netherland last year xe x x see trend chang futur',\n",
       " 'b said nice thing hardli irish hate davidghfrost starv patel could ruin beef industri ree mogg http co aqswfhpq',\n",
       " 'b castlvillageman get irish beef wonder product dar foart scump sell well even price http co napyytym',\n",
       " 'b castlvillageman taken read least irish beef label brave new world product produc lower welfar drug product valu origin label eg usa shelv cut local supplier',\n",
       " 'b kitchentuv uk want allow eg beef hormon brazil must border check somewher uphold eu standard two option irish sea land border uk explicitli sign latter three year discuss everybodi knew implic',\n",
       " 'b mouth water beef soba noodl irish food lifestyl photograph kati quinn http co fppoqrsttq',\n",
       " 'b belfastyid fennimoretintin bordersolut simoncoveney french spanish italian take irish beef pork everi week believ look profil see mep elect constitu like presid commiss parliament put forward leader countri',\n",
       " 'b firm fan favourit old street chees burger irish black angu beef patti toast brioch bun tangi harissa mayonnais littl gem lettuc beefsteak tomato pickl gherkin hand cut chip realli hit spot sunni saturday http co jwxtqhblm',\n",
       " 'b benlowri eu bigger gb label beef irish free rang beef special statu europ earn ni farm larger pool profit jurisdict asleep wheel ben troubl union suffer tunnel vision http co ipa yrai',\n",
       " 'b christi markeast kilsal hhesterm irish contamin pork irish beef contamin angel dust etc etc etc',\n",
       " 'b benlowri ian paisley senior cathol hate man god happi border irish sea secur access european market northern irish beef treat irish thatcher mad cow diseas episod',\n",
       " 'b news letter will class irish beef dairi ireland diseas free brit agri product ban around world ni milk produc process south sold eu return home uk market',\n",
       " 'b pick win thecreatorclash tomorrow realdoctormik russian justaminx irish dadfeel better pop song writer harleyplay epic train hundar best beef video theodd sout alreadi dead insid djwelchart black elirymage improv wow http co kne qxdx',\n",
       " 'b taytum hit great row said im sorri said irish friend',\n",
       " 'b bigobarnett zeestrong differ prefer irish whiskey beef good cigar',\n",
       " 'b irish offali alway go pint resist everyth except temptat round guin flavor beef anytim day franciscanwellbreweri',\n",
       " 'b news letter identifi transgend cow previous bull eat meat im vegetarian cow previous bull also identifi irish beef therefor support subug protocol feel cow get sanitari product free',\n",
       " 'b news letter xe x x mind call beef irish xe x x sell though pick side',\n",
       " 'b pgsween irish hawg hawg jaw like reuben love slice smoke corn beef smoke sausag end day',\n",
       " 'b michaelglasp probabl bse crisi though back dup want ni beef design irish rather british funni old world',\n",
       " 'b bordersolut fennimoretintin simoncoveney irish farmer deal protocol hand northern irish farmer feel brunt repercuss beef bur major agri food',\n",
       " 'b jumpforj markipli oh yeah mean specif beef irish cathol protest histori long violent rather fascin fulli grok continu modern day',\n",
       " 'b bellawallerstei zacgoldsmith mickantoniw angloamerican theroyalwelsh kwasikwarteng rishisunak rctcouncil cromptonadrian welshgovern ukparlia houseofcommon ukhouseoflord aloksharma rdg borisjohnson prifweinidog tedtalk campbellclaret institutegc vaughangeth sajidjavid georg osborn philiphammonduk andrewrtdavi donaldtuskepp vikkihowel bethwintermp tomtugendhat mrt nicolasturgeon potu usarmi sharkgregnorman victoriabeckham cristiano piersmorgan paul hogan funniest man ever seen wrestl crocodil freehog xe x x xe x x like xe x x axe phil hogan eu golf gate controversi sell irish beef wrap plastic wors dun xe x x dee place someth cleaner dee mother name shorten',\n",
       " 'b carri beto work night shift shift would stop jonni bar irish cream homemad bar cream chip corn beef rye toast short walk home hosp work bed zzzzzzzzzzzz',\n",
       " 'b hilarybennmp foot mouth prime exampl viru arriv check african swine fever other paisley snr got beef recognis irish demand check keep f amp check problem becom ni eu one',\n",
       " 'b russ parson irish russ parson think black pud beef burger white pud pork burger supportloc',\n",
       " 'b jorg fudg irish beef xf x f x x c fatti one cow',\n",
       " 'b two good answer question feel one eu uk agre intern treati featur rule underli one case import load substandard beef screw irish market beef http co j rdzijfmh',\n",
       " 'b mouth water beef soba noodl irish food lifestyl photograph kati quinn http co fppoqrsttq',\n",
       " 'b spring fresh xf x f x x burger contain freshest local ingredi xf x f x x bord bia approv irish beef xf x f x x fresh chop onion xf x f x x fresh ground sea salt amp black pepper xf x f x x fresh chop parsley amp noth els xf x f x c xb noaddit nopreserv glutenfre coeliacawarenessweek http co tkb xcgx',\n",
       " 'b govt could fix irish protcol amp problem sign eu food standard suellabraverman refus answer accus futur lower food standard remain warn countri way hormon fed beef chlorin chicken amp ge food',\n",
       " 'b conormulv haroldkingston gillwallyo jrc ggel work around includ carbon sequestr grassland help improv irish dairi amp beef lca footprint',\n",
       " 'b sometim want xe x c xa qualiti xe x c xa dinner happen xe x x one thing job rustler classic quarter pounder made british irish beef xf x f xa xa betterthanyouthink http co hjua',\n",
       " 'b derrickberthel adbalfour wobski sayin lablostheh maggi factsareafriend fcukbrexit jonhlluk andrewsibley swen charliecarlsbad davidmetroland geoffbarton rtti boomer ish mindedmus musc esbri nicoledso leftbehindpoet beowulfschaef david resiguru mattadkin jimbo gylesnamopaleen moretadpol gerrymac aodandepaor afewpoint thegho hwick chri viv cooper bromhom leaver johnsmithl simontign twvasl andiehalihan geoffreykeey wander bolton sallyannc begentl claesson kate joel chandler panlnaro andrewknight alabamahoshea shegorreador pieroti much differ lorri load irish beef ni lorri load cheaper beef brazil uk reduc standard heard substanti',\n",
       " 'b bowakunda thesam forexampl katogo matok rice irish beef k yet thesam food lunch time thesam venu thesam economi k',\n",
       " 'b beat understand restaur kampala price food rice beef irish matok serv cheap cost breakfast order thesam lunch cost inflat atleast thrice restaur owner guid happen',\n",
       " 'b adbalfour francisfoley noseabord tconnellyrt hocgfa marossefcov beef especi derang stage account total irish export stuck sad littl bigot ireland concern move',\n",
       " 'b adbalfour sunpoch tmcreamer fabianzuleeg absolut ensur irish beef farmer xe x x compet u k market canadian australian want keep xe x x xe x x market control import',\n",
       " 'b ad xf x f xa xa barandblock steakhous chain serv day age british amp irish prime beef visit newli open paddington restaur see xe x x chang last year sinc last visit anoth branch xe x x seen massiv step u xe x xa http co qb mgt qg http co dgwmfnw l',\n",
       " 'b john know answer unscrupul busi use ruse import substandard product irish republ especi conserv allow chlorin chicken hormon beef usa http co nigk ormni',\n",
       " 'b anomand youngmul kjk http co ak xbpike irish survey identifi factori sourc beef product contamin adulter liffey meat silvercrest food ireland dalepak yorkshir silvercrest dalepak subsidiari abp food group',\n",
       " 'b simoncoveney marossefcov would appear normal reason diplomaci work eu time word end time action look forward tariff irish beef simon',\n",
       " 'b francisfoley noseabord tconnellyrt hocgfa marossefcov xe x x sure penni yet drop crow irish get trade war eu seem determin risk ireland suffer countri beef especi',\n",
       " 'b justaminx pure irish beef',\n",
       " 'b nixon said beef irish jew nixon tape blind reaction',\n",
       " 'b tariff irish beef without fta tri kid desper panic http co yjxnruygv',\n",
       " 'b peston marossefcov uk initi standard align eu britain drop mani eu standard ie allow import hormon treat beef australia drop nip would allow non standard good eu via irish border thu border check becom necessari',\n",
       " 'b ericdaw pogoskyblu export eu go gb instead irish beef farmer know ars elbow',\n",
       " 'b theokcnerd arni booth ali samson countri take british sunday roast add irish day drink call beef bradi alway world domin super power',\n",
       " 'b killianm beef tribun result world action report susan keeff highlight irregular beef industri suspicion got scot free indict instead justic irish style establish circl wagon',\n",
       " 'b davidheniguk dye thame green given corn beef cabbag let irish car bomb black tan either greet ranger shirt',\n",
       " 'b belfastbr never forget big ian say may british beef irish day final admit irish',\n",
       " 'b martycaf igairport dublinairport irish cook book recip draw tradit contemporari irish food court would includ beauti soup sourdough sandwich salad irish leav hot plate section beef cheek mash lamb grill section ireland finest beef',\n",
       " 'b spenc john andybelfast langtrydavidsq simoncatriley horsemeat beef issu simpli smuggl chees suppli chain issu irish export tool distribut uk pick lot charg percent margin warranti repair costli paperwork could cost time',\n",
       " 'b smartap ksi hamburg hamburg germani u fool british irish best potato beef lamb export top xc xa global go suck ur thumb',\n",
       " 'b irish waterford alway go pint man love sweetheart wife best mother longest round guin flavor beef stew anytim day ballykilcavanbreweri',\n",
       " 'b janemorric charliecurri rev ian paisley fought herd class irish beef xf x f x x',\n",
       " 'b fcukbrexit lisaocarrol ye would thought northern irish beef pork product export world found moy park ni process chicken poland brazil suppli asda thought chicken bred northern ireland naiv',\n",
       " 'b amactwan williamcrawley brit bse riddl beef enter ireland via green channel bse ridden beef goe dublin beef resold singl market irish beef',\n",
       " 'b rtenew eu tri push trade deal america import cheap beef europ amp threaten irish farmer climat chang amp carbon footprint exist global trade mechan fraud us pay faux tax like carbontax dublinclimatesummit',\n",
       " 'b thejourn ie eu tri push trade deal america import cheap beef europ amp threaten irish farmer climat chang amp carbon footprint exist global trade mechan fraud us pay faux tax like carbontax dublinclimatesummit',\n",
       " 'b belfastdgm bring pernicketi beef gb sausag etc specif northern irish one nb ukrain financ minist bbc news last week ukrain want full embargo earn bn transit russian energi depend c amp e european countri',\n",
       " 'b two worst irish writer formerli twitter manag twitter beef anyway http co nnmhsz km',\n",
       " 'b tender bord bia irish food board eu beef lamb campaign evalu http co jhlrh gj g',\n",
       " 'b mistereatgalway absolut wrote recent opportun one last experi irish hospit visitor http co ot iahuown',\n",
       " 'b annietrev borisjohnson nice see u deliv free trade nz amp australia manner rel trevelyan deliv grain beef dairi ireland world irish famin genocid',\n",
       " 'b alexkan b u k may unabl buy german car irish beef french wine protocol xe x x stand xe x x',\n",
       " 'b move northern ireland includ propos protect geograph indic pgi applic irish grass fed beef welcom eu xe x x geograph indic statu estim worth sale increas http co dnwm ydhc',\n",
       " 'b kellycnbc go corn beef irish soda bread raisin string bean http co tckhkbh',\n",
       " 'b garrettdonnelli albertonardelli xe x x like say uk export car chemic food countri except ireland face tariff beef countri wherea tariff free uk irish export uk total lot',\n",
       " 'b lb natur beef burger sourdough bun irish red cheddar hous mustard bean sprout smoke bacon burger nom',\n",
       " 'b wednesday serv mouthwat corn beef amp cabbag pm join us irish feast patio make delici hump day http co krsqnnsamf',\n",
       " 'b insid week irish farmer journal xe x xa beef price smash record export surg xe x xa dairi market boom milk price rocket xe x xa battl carbon emiss target begin xe x xa new vet medicin rule defer decemb http co z usfppxyv',\n",
       " 'b drwernerklopek sauc ladl boil grey ground beef part soft overcook onion juic http co lji dx',\n",
       " 'b irish rose boil beef onion rice could legit right sauc think',\n",
       " 'b everytim ever tri tweet tweet send even twitter god know disgust real beef tea irish thing forc punish kid boil ground beef whole peel onion eat rice http co cdi gppxfa',\n",
       " 'b wednesday irish flanagan xe x x xef xb x f enjoy shepherd pie corn beef amp cabbag fish amp chip serv soup salad irish beer hous wine day lunch dinner http co bkq xgpzv',\n",
       " 'b grain theori host annual st patrick xe x x day celebr march guest enjoy green beer classic irish food like soda bread corn beef live music perform danni jame dexter moonrock scenel graintheoryb http co xtwh b http co ymtrustsdl',\n",
       " 'b smoke irish beef brais cheek celeriac mushroom truffl ju signatur tabl even book onlin resdiari http co lh gkykirw',\n",
       " 'b andrewgmorton twatter beef irish bodi accumul debt',\n",
       " 'b xf x f x x youtub irish peopl tri new spici american beef jerki armageddon jerki http co toinfa xsi',\n",
       " 'b foxi chick janischshan domdyer yet dont throw fit irish peopl eat beef pork everi singl day typic hypocrisi someon probabl never even set foot faro island',\n",
       " 'b neeneinnyetno mean ye lol last hurrah ny irish italian beef move boston tho time born use far right wing italian rule labor aristocrat work class aggress black brown peopl',\n",
       " 'b exampl uk import food mainli eu roi australian trade deal includ beef food displac import eu irish beef cheaper said eu agricultur museum uk import gmo food stuff start learn http co x wqoghvic',\n",
       " 'b love reuben give version tri irish hawg smoke corn beef smoke sausag swiss chees spici sauerkraut thousand island toast marbl rye http co fwacvch r',\n",
       " 'b aaron r rankin dcbmep bring supplier deliv republ hope anyway charg extra euro custom enjoy kerri gold amp irish beef get readi eat humbl pie nigel farag talktv sovereignti trade http co mokoz bkb',\n",
       " 'b look like cook skill still scratch grab spud nua way home cook dri age steak wood outsid best irish beef best way xe x xa ye tomdurcanmeat http co nuvlfaz se',\n",
       " 'b like beer like beef look someth get friday night come support irish dancer friday see irish irishd beef beer http co r iarcknyv http co u ey fusl',\n",
       " 'b like brand tell sourc ingredi make sound better xe x x irish beef xe x x good thing idea xe x x meant impress',\n",
       " 'b chiefjosheola love hong triad boss safe chinatown hole wall corrupt irish cop russian mobster pay visit invit share borscht corn beef cabbag appet need bowel cleans ask meet',\n",
       " 'b straight away oven corn beef xf x f x x want irish breakfast xf x f x x xe x x xe x x xef xb x f http co xcojz uvfj',\n",
       " 'b mcdonaldsuk irish beef',\n",
       " 'b lb organ bison burger lettuc blend green irish red cheddar mayo hard boil egg beef chili burger nom',\n",
       " 'b latest news ukfarmingunion brussel key farm issu includ xf x f x xba xf x f x xa ukrain xf x f x c xb new genom techniqu xf x f x x organ action plan xf x f xa xa irish beef pgi xf x f x x cfertilis adblu suppli nfutweet nfustweet ufuhq nfucymru http co x zxlziu',\n",
       " 'b jake paul alway tryna beef irish peopl like brother lost talk shit lost like shut xe x x time',\n",
       " 'b tax declandub left wing irish media xf x f x x xf x f x x oh pleas stop side hurt might suggest real beef aoif femal north establish hack particular order cours',\n",
       " 'b heat old ish beef irish cinema made oper quota homemad independ cinema everi year could fund output irish produc filmmak us project tax jolli film min outdoor footag coast http co glv vamxyx',\n",
       " 'b sandwich special today rueben creat home made corn beef slow cook hour sandwich perfect irish bake potato amp bacon http co lilpdcakdb',\n",
       " 'b caerag irish butter argentinian beef also definit biden fault',\n",
       " 'b happi tuesday stop get goe huntington diseas irish stenger hot corn beef stuf garlic rub roll w swiss chees island dress serv w chip soup minestron chicken noodl amp chicken tortilla http co dvlapnmerm',\n",
       " 'b menu lemon chicken orzo soup chop chicken salad beef tamal pie dark ale irish stew shrimp fajita fettuccin alfredo chicken marsala lemon rosemari grill chicken oven fri chicken citru soy salmon meatloaf plu side dessert amp kid meal mealvillag http co pzoq qzr',\n",
       " 'b obi shinobi ottoosirian rebu deborahmeaden ok got cannot answer asda sourc eu rais irish beef rather uk beef order keep price insult keep good work xf x f x x',\n",
       " 'b jh campbel ottoosirian rebu deborahmeaden rather buy irish beef also buy lamb new zealand eu get beef brazil xf x f xa xb xf x f x f xbd xe x x xe x x xef xb x f peski inflat guess germani inflat brexit us http co nzn ur boo',\n",
       " 'b altdubland hot irish beef xf x f x x',\n",
       " 'b waffl otter adowni russellhelly mean fuck consid irish immigr eat corn beef cabbag us get lynch ireland',\n",
       " 'b somaticon karin siemund patrickkmaguir milk pass north south back process chees skim butter yogurt etc mani bigger player agricultur cross border set up rememb paisley pronounc irish beef f amp slurri chicken manur n thing also',\n",
       " 'b obi shinobi ottoosirian rebu deborahmeaden would thought irish beef rais eu fed love red tape cheaper uk beef rais without eu shackl despit set custom declar price go everywher pleas',\n",
       " 'b irish govern tactic comic thug run china regim use beef trade weapon exact polit concess influenc ireland weaken eu uniti australia nz brazil dairi meat export cut sanction due polit disput http co urhqsjpuom',\n",
       " 'b byhedg fintandam think swim realli matter know natur rich irish countrysid xe x x amp xe x x childhood obliter grass fed beef amp diari',\n",
       " 'b ruralsarah hear discuss sector govern still blind futur issu seem eu releas emerg fund go distinct competit disadvantag eg irish beef lamb produc reciev addit payment',\n",
       " 'b fuck u tell cream chip beef delawar invent xe x xa alway thought irish scottish http co msj ozzjdi',\n",
       " 'b soxofwhit mailmanjack mrdelici fromth could parodi sunday bloodi sunday irish blood say sunday soak sunday long long must beef leav shade long xe x x xe x x goin hell',\n",
       " 'b go celtic root irish want seven game seri',\n",
       " 'b perform xe x x phd xe x x ceconom environment effici irish eu agricultur xe x x phd xe x x cnovel nutrit manag strategi optim econom environment sustain pastur base dairi calf beef product system ireland xe x x http co lcsidvrzjk http co ko uu egtt',\n",
       " 'b suitord beerfoodtravel corn fed beef canada state alway tast sweeten excess fat make appreci irish beef much suspect unwittingli go toward rais actual tast better',\n",
       " 'b irish write leovaradkar kylemorechees spice beef middl right',\n",
       " 'b aoifecarey instruct cut irish beef dairi herd get farmer grow wheat climat action plant base futur wimp compli',\n",
       " 'b irish rose four thefir look delici someth similar mash potato base call ugli beef delici',\n",
       " 'b irish rose four thefir someth beef stroganoff egg noodl must',\n",
       " 'b dinner tonight amish beef butter egg noodl green bean pretti tasti twittersupperclub http co kq ibnm',\n",
       " 'b uwut aster homer pink brexitjohn herbertbundi racialist iv racialist ow cum ad irish beef frum mcdonald wen know wu irish',\n",
       " 'b irish farmer suffer c kg xe x x neg turnaround xe x x price r anim year begin may claim http co bixkd cvro',\n",
       " 'b andyd bi sir woofington darrengrim said level radioact neglig go look beyond headlin alway free buy japanes food label japanes food like beef etc label british irish lamb label new zealand lamb person choic',\n",
       " 'b xf x f x f x kentucki twist irish classic xe x x xef xb x f cottag pie made fresh daili tripl j farm ground beef serv homemad brown bread join us dinner tonight pm http co gpn pwt',\n",
       " 'b chrisvol cultur protean term mean whatev want mean main beef statement like deni conting e g econom factor either insinu blatantli insist inher e g scot irish whatev',\n",
       " 'b correct xe x x urc cours xe x x let happen also needless say irish provinc second tranch game http co nerrwgi ts',\n",
       " 'b cervic cancer sampl irish women sent abroad screen despit promis aftermath cervicalcheck controversi beef lab capac home http co wbtap l zc',\n",
       " 'b behanj saraita much like beef bse crisi class either irish british depend advantag',\n",
       " 'b beef farmer find oper chang circumst start posit rise price recent launch irish farm report show say posit outlook beef sector find xf x f x x http co jkr cgewbi http co itpf ajsc',\n",
       " 'b start week bowl best beef amp guin irish stew xe x x xef xb x f ireland irish irishfood irishstrew guinnesbeefstew irishbar irishpub thebrazenhead thebrazenheaddublin http co jscybt',\n",
       " 'b beef burger irish beef burger hand press experienc craft butcher love burger brioch bun fri butter accompani tomato lettuc amp chees order deliveri collect http co myvn z http co e hmecwmiy',\n",
       " 'b felsi matook beef stew irish bbi',\n",
       " 'b flopbutton mayb irish american irish italian beef',\n",
       " 'b flopbutton idk irish ppl beef w british ppl he italian american',\n",
       " 'b davidcoverdal speak irish whale oil beef hook say fast goof kid sail http co q iheeho',\n",
       " 'b mcdonald tripl cheeseburg beef patti chees slice whatev sauc top even onion pickl doubl third patti http co k vol mej',\n",
       " 'b irish bar arlington va watch wild got corn beef cabbag frick amaz http co jjmp enu',\n",
       " 'b channel irish blood drink excess cook corn beef commit domest abus',\n",
       " 'b foodborn think swim least irish dairi beef fed grass',\n",
       " 'b think swim part irish beef dairi grass fed thank',\n",
       " 'b irish roast beef guin au ju http co diz ydbmh',\n",
       " 'b updat next sainsburi groceri order search shin beef haugh noth tri search categori dice beef stew casserol raw beef offer categori describ british irish dice beef extra lean british irish',\n",
       " 'b lb natur beef burger organ mix green irish red cheddar hous mustard grill pineappl sunni side egg burger',\n",
       " 'b legit laugh hard irish beef hahah http co lez rdlibr',\n",
       " 'b fish commun ireland sold year ago eu return subsidi big dairi beef treat badli ever sinc chang eu level must recognis irish fish commun part solut seen part problem http co hhdjztksmw',\n",
       " 'b gratefulkeg need keg take xe x xa xef xb x f flanagan xe x x gt molli malon xe x x lotta irish beef street',\n",
       " 'b bagel egg pretti basic one xe x x done stuff complic reuben made irish corn beef rye bread packag thousand island dress press panini press new possibl',\n",
       " 'b lb turkey burger gluten free bun irish red cheddar spici tomato jam bean sprout beef chili burger nom',\n",
       " 'b theslangterm never went way tri feel like north shore beef sandwich much well known chines food interest histori tri make appeal irish italian immigr see stuff like xe x x cpeke ravioli xe x x menu bread',\n",
       " 'b nadinedorri current open nd bottl ro xc xa cook scuttl around windowless sculleri make majesti beef irish',\n",
       " 'b beef price may factor hemp hectar peak xe x x irish examin http co svudwkzx',\n",
       " 'b lb natur beef burger babi spinach irish age cheddar honey dijon mix oliv smoke bacon burger nom',\n",
       " 'b lb natur beef burger sourdough bun irish red cheddar korean chili aioli babi spinach smoke bacon burger nom',\n",
       " 'b swiftonsecur irish grass fed butter grass fed finish beef grass fed yogurt cottag chees wild caught tuna carrot celeri lettuc',\n",
       " 'b sunday roast tender roast rib irish black angu beef carrot broccoli crispi roast potato yorkshir pud famou beef ju gravi kid menu amp size avail open pm kidssizem sundayroast sundayfunday familytim famili http co x p w',\n",
       " 'b franci bacon xe x x chead surround side beef xe x x irish surreal mm slide http co tooku st ebay',\n",
       " 'b franci bacon xe x x chead surround side beef xe x x irish surreal mm slide http co j gipdvi n ebay',\n",
       " 'b irish mayo alway go pint man love sweetheart wife best mother longest round guin flavor beef stew anytim day rogueshakespearestout',\n",
       " 'b would love see citizen xe x x juri even irish style citizen xe x x assembl kind issu field report congress grill beef industri leader consolid civil eat xe x xa cndp us xe x xa xe x xa ruralvoicesusa xe x xa http co jbkpx r xp',\n",
       " 'b bigplanapp gave treat good qualiti irish beef high qualiti beef stock extra strong',\n",
       " 'b gunneroo higginsbutch let know think chianina ton comment mine fantast differ flavour profil irish beef',\n",
       " 'b bnwkr fortnit beef',\n",
       " 'b bubbacdubbya paigelov ever theiwcunhing xe x x irish cool like watch peopl tri pizza beef jerki youtub',\n",
       " 'b borisjohnson what wrong british irish beef xe x x need australian beef wonder back handler gone',\n",
       " 'b steak bbq xf x f x x b xf x f x x c beef irish grass fed matur minimum day ensur enhanc flavour tender tomahawk striploin fillet bone xe x xa name xf x f xa xa xf x f x x shop onlin visit us store supportyourlocalbutch http co r dg cagu']"
      ]
     },
     "execution_count": 9,
     "metadata": {},
     "output_type": "execute_result"
    }
   ],
   "source": [
    "# Display the cleaned_data\n",
    "cleaned_data"
   ]
  },
  {
   "cell_type": "code",
   "execution_count": 10,
   "id": "bdb5614b",
   "metadata": {},
   "outputs": [
    {
     "name": "stdout",
     "output_type": "stream",
     "text": [
      "0      Negative\n",
      "1      Negative\n",
      "2      Negative\n",
      "3      Negative\n",
      "4      Negative\n",
      "         ...   \n",
      "181    Negative\n",
      "182    Negative\n",
      "183    Negative\n",
      "184    Negative\n",
      "185    Negative\n",
      "Name: Polarity_Rating, Length: 186, dtype: object\n"
     ]
    }
   ],
   "source": [
    "print(y)"
   ]
  },
  {
   "cell_type": "code",
   "execution_count": 12,
   "id": "e78d9ca6",
   "metadata": {},
   "outputs": [],
   "source": [
    "# Collect all columns into dataframe named as sentiment_ordering\n",
    "sentiment_ordering = ['Negative', 'Neutral', 'Positive']\n",
    "\n",
    "# store all values into column named as \"y\"\n",
    "y = y.apply(lambda x: sentiment_ordering.index(x))"
   ]
  },
  {
   "cell_type": "code",
   "execution_count": 13,
   "id": "704bf591",
   "metadata": {},
   "outputs": [
    {
     "data": {
      "text/plain": [
       "0    0\n",
       "1    0\n",
       "2    0\n",
       "3    0\n",
       "4    0\n",
       "Name: Polarity_Rating, dtype: int64"
      ]
     },
     "execution_count": 13,
     "metadata": {},
     "output_type": "execute_result"
    }
   ],
   "source": [
    "y.head()"
   ]
  },
  {
   "cell_type": "code",
   "execution_count": 14,
   "id": "5d3a4281",
   "metadata": {},
   "outputs": [
    {
     "data": {
      "text/plain": [
       "(186, 1874)"
      ]
     },
     "execution_count": 14,
     "metadata": {},
     "output_type": "execute_result"
    }
   ],
   "source": [
    "from sklearn.feature_extraction.text import CountVectorizer\n",
    "\n",
    "# Instantiate an object cv by calling a method named as CountVectorzer()\n",
    "cv    = CountVectorizer(max_features = 3000, stop_words = ['b', 'unit'])\n",
    "\n",
    "# Train the dataset by calling a fit_transform() method\n",
    "X_fin = cv.fit_transform(cleaned_data).toarray()\n",
    "\n",
    "# Display the rows and colums\n",
    "X_fin.shape"
   ]
  },
  {
   "cell_type": "code",
   "execution_count": 15,
   "id": "9309a97d",
   "metadata": {},
   "outputs": [
    {
     "data": {
      "text/plain": [
       "array([[0, 0, 0, ..., 0, 0, 0],\n",
       "       [0, 0, 0, ..., 0, 0, 0],\n",
       "       [0, 0, 0, ..., 0, 0, 0],\n",
       "       ...,\n",
       "       [0, 0, 0, ..., 0, 0, 0],\n",
       "       [0, 0, 0, ..., 0, 0, 0],\n",
       "       [0, 0, 0, ..., 0, 0, 0]], dtype=int64)"
      ]
     },
     "execution_count": 15,
     "metadata": {},
     "output_type": "execute_result"
    }
   ],
   "source": [
    "X_fin"
   ]
  },
  {
   "cell_type": "code",
   "execution_count": 16,
   "id": "bfe81253",
   "metadata": {},
   "outputs": [],
   "source": [
    "from sklearn.naive_bayes import MultinomialNB\n",
    "from sklearn.model_selection import train_test_split\n",
    "\n",
    "# Instantiate an object model by calling a method MultinomialNB()\n",
    "model = MultinomialNB()"
   ]
  },
  {
   "cell_type": "code",
   "execution_count": 17,
   "id": "3547d44a",
   "metadata": {},
   "outputs": [],
   "source": [
    "# Split the dataset into training and testing parts\n",
    "X_train, X_test, y_train, y_test = train_test_split(X_fin, y, test_size = 0.3)"
   ]
  },
  {
   "cell_type": "code",
   "execution_count": 18,
   "id": "76b8b89a",
   "metadata": {},
   "outputs": [
    {
     "data": {
      "text/plain": [
       "MultinomialNB()"
      ]
     },
     "execution_count": 18,
     "metadata": {},
     "output_type": "execute_result"
    }
   ],
   "source": [
    "# Train the model by calling a method fit()\n",
    "model.fit(X_train,y_train)"
   ]
  },
  {
   "cell_type": "code",
   "execution_count": 19,
   "id": "5d97b735",
   "metadata": {},
   "outputs": [],
   "source": [
    "# Call predict() method\n",
    "y_pred = model.predict(X_test)"
   ]
  },
  {
   "cell_type": "code",
   "execution_count": 20,
   "id": "9beab138",
   "metadata": {},
   "outputs": [
    {
     "name": "stdout",
     "output_type": "stream",
     "text": [
      "              precision    recall  f1-score   support\n",
      "\n",
      "           0       0.96      0.91      0.93        54\n",
      "           2       0.00      0.00      0.00         2\n",
      "\n",
      "    accuracy                           0.88        56\n",
      "   macro avg       0.48      0.45      0.47        56\n",
      "weighted avg       0.93      0.88      0.90        56\n",
      "\n"
     ]
    }
   ],
   "source": [
    "from sklearn.metrics import classification_report\n",
    "\n",
    "# Instantiate a mthod named as Cla\n",
    "cf = classification_report(y_test, y_pred)\n",
    "\n",
    "# Display the values of an object cf\n",
    "print(cf)"
   ]
  },
  {
   "cell_type": "code",
   "execution_count": 21,
   "id": "6a43611e",
   "metadata": {},
   "outputs": [],
   "source": [
    "from sklearn.feature_extraction.text import TfidfVectorizer\n",
    "\n",
    "# Create an object 'tf' by calling a method TfidfVectorizer()\n",
    "tfidf = TfidfVectorizer(max_features = 3000, stop_words = ['b', 'unit'])\n",
    "\n",
    "# Train the dataset by calling a method fit_tranform() \n",
    "X_tfidf = tfidf.fit_transform(cleaned_data).toarray()"
   ]
  },
  {
   "cell_type": "code",
   "execution_count": 22,
   "id": "10f96e24",
   "metadata": {},
   "outputs": [
    {
     "data": {
      "text/plain": [
       "array([[0., 0., 0., ..., 0., 0., 0.],\n",
       "       [0., 0., 0., ..., 0., 0., 0.],\n",
       "       [0., 0., 0., ..., 0., 0., 0.],\n",
       "       ...,\n",
       "       [0., 0., 0., ..., 0., 0., 0.],\n",
       "       [0., 0., 0., ..., 0., 0., 0.],\n",
       "       [0., 0., 0., ..., 0., 0., 0.]])"
      ]
     },
     "execution_count": 22,
     "metadata": {},
     "output_type": "execute_result"
    }
   ],
   "source": [
    "X_tfidf"
   ]
  },
  {
   "cell_type": "code",
   "execution_count": 23,
   "id": "9db32bc1",
   "metadata": {},
   "outputs": [],
   "source": [
    "from sklearn.naive_bayes import MultinomialNB\n",
    "from sklearn.model_selection import train_test_split\n",
    "\n",
    "# Instantiate an object model by calling a method MultinomialNB()\n",
    "model_tdidf = MultinomialNB()"
   ]
  },
  {
   "cell_type": "code",
   "execution_count": 24,
   "id": "b615c325",
   "metadata": {},
   "outputs": [],
   "source": [
    "# Split the dataset into training and testing parts\n",
    "X_train, X_test, y_train, y_test = train_test_split(X_tfidf, y, test_size = 0.3)"
   ]
  },
  {
   "cell_type": "code",
   "execution_count": 25,
   "id": "ce4c28b3",
   "metadata": {},
   "outputs": [
    {
     "data": {
      "text/plain": [
       "MultinomialNB()"
      ]
     },
     "execution_count": 25,
     "metadata": {},
     "output_type": "execute_result"
    }
   ],
   "source": [
    "# Train the model by calling a method fit()\n",
    "model_tdidf.fit(X_train, y_train)"
   ]
  },
  {
   "cell_type": "code",
   "execution_count": 26,
   "id": "83089f84",
   "metadata": {},
   "outputs": [],
   "source": [
    "# Call predict() method\n",
    "y_pred = model_tdidf.predict(X_test)"
   ]
  },
  {
   "cell_type": "code",
   "execution_count": 27,
   "id": "124aaf9f",
   "metadata": {},
   "outputs": [
    {
     "name": "stdout",
     "output_type": "stream",
     "text": [
      "              precision    recall  f1-score   support\n",
      "\n",
      "           0       0.95      1.00      0.97        53\n",
      "           2       0.00      0.00      0.00         3\n",
      "\n",
      "    accuracy                           0.95        56\n",
      "   macro avg       0.47      0.50      0.49        56\n",
      "weighted avg       0.90      0.95      0.92        56\n",
      "\n"
     ]
    }
   ],
   "source": [
    "from sklearn.metrics import classification_report\n",
    "\n",
    "# Instantiate a mthod named as Cla\n",
    "cf = classification_report(y_test, y_pred)\n",
    "\n",
    "# Display the values of an object cf\n",
    "print(cf)"
   ]
  }
 ],
 "metadata": {
  "kernelspec": {
   "display_name": "Python 3 (ipykernel)",
   "language": "python",
   "name": "python3"
  },
  "language_info": {
   "codemirror_mode": {
    "name": "ipython",
    "version": 3
   },
   "file_extension": ".py",
   "mimetype": "text/x-python",
   "name": "python",
   "nbconvert_exporter": "python",
   "pygments_lexer": "ipython3",
   "version": "3.9.7"
  },
  "toc": {
   "base_numbering": 1,
   "nav_menu": {},
   "number_sections": true,
   "sideBar": true,
   "skip_h1_title": false,
   "title_cell": "Table of Contents",
   "title_sidebar": "Contents",
   "toc_cell": false,
   "toc_position": {},
   "toc_section_display": true,
   "toc_window_display": false
  }
 },
 "nbformat": 4,
 "nbformat_minor": 5
}
