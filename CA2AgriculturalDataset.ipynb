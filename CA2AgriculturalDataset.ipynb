{
 "cells": [
  {
   "cell_type": "code",
   "execution_count": null,
   "id": "6238302f",
   "metadata": {},
   "outputs": [],
   "source": [
    "# importing libraries which will be used for the initial exploration of the data quality and integrity.\n",
    "\n",
    "# loading the libraries\n",
    "import pandas as pd # pandas will be used to manipulate the data\n",
    "import numpy as np # numpy will be used to perform the mathematical operation\n",
    "from numpy import mean\n",
    "# the libraries to visualise the plots include matplotlib.pyplot, plotly.express and seaborn \n",
    "import matplotlib.pyplot as plt  \n",
    "import plotly.express as px \n",
    "import seaborn as sns\n",
    "# to enable matplotlib mode, we will use the %matplotlib inline magic command\n",
    "%matplotlib inline \n",
    "sns.set(color_codes=True)\n",
    "\n",
    "%config InlineBackend.figure_format = 'retina'\n",
    "sns.set_context('talk')\n",
    "from IPython.core.interactiveshell import InteractiveShell\n",
    "InteractiveShell.ast_node_interactivity = 'all' \n",
    "\n",
    "# to suppress the warnings\n",
    "import warnings\n",
    "warnings.filterwarnings('ignore')"
   ]
  },
  {
   "cell_type": "code",
   "execution_count": null,
   "id": "5cdc71ce",
   "metadata": {},
   "outputs": [],
   "source": [
    "# reading the dataset\n",
    "\n",
    "# the index of producer prices of agricultural products (output)\n",
    "ireland1 = pd.read_csv('Ireland2007_2017.csv')\n",
    "ireland2 = pd.read_csv('Ireland2018_2021.csv')\n",
    "denmark1 = pd.read_csv('Denmark2007_2017.csv')\n",
    "denmark2 = pd.read_csv('Denmark2018_2021.csv')\n",
    "\n",
    "# gross domestic product in €million\n",
    "gdp_ie = pd.read_csv('GDP_IE.csv')\n",
    "gdp_dk = pd.read_csv('GDP_DK.csv')"
   ]
  },
  {
   "cell_type": "markdown",
   "id": "37f8a0e3",
   "metadata": {},
   "source": [
    "# Ireland Data Exploration"
   ]
  },
  {
   "cell_type": "code",
   "execution_count": null,
   "id": "39f71126",
   "metadata": {},
   "outputs": [],
   "source": [
    "# Merge two datasets into one\n",
    "ie_output = pd.concat([ireland1, ireland2])\n",
    "\n",
    "# Reset index for later merging\n",
    "ie_output.reset_index(drop=True, inplace=True)\n",
    "\n",
    "# Sort values to ensure date in time are in order\n",
    "ie_output.sort_values(['Time', 'Country'], inplace=True)"
   ]
  },
  {
   "cell_type": "code",
   "execution_count": null,
   "id": "8d279a88",
   "metadata": {},
   "outputs": [],
   "source": [
    "# showing the first five rows of the merged dataframe\n",
    "ie_output.head()"
   ]
  },
  {
   "cell_type": "code",
   "execution_count": null,
   "id": "16403c78",
   "metadata": {},
   "outputs": [],
   "source": [
    "# converting time to datetime and adding new column quarter\n",
    "ie_output.Time = pd.to_datetime(ie_output.Time)\n",
    "ie_output [\"Quarter\"] = ie_output.Time.dt.quarter"
   ]
  },
  {
   "cell_type": "code",
   "execution_count": null,
   "id": "99328202",
   "metadata": {},
   "outputs": [],
   "source": [
    "# showing the first five rows of the dataframe\n",
    "ie_output.head()"
   ]
  },
  {
   "cell_type": "code",
   "execution_count": null,
   "id": "50447842",
   "metadata": {},
   "outputs": [],
   "source": [
    "# showing the summary of the dataset: 60 rows, 13 columns\n",
    "# observing the Dtype \n",
    "ie_output.info()"
   ]
  },
  {
   "cell_type": "code",
   "execution_count": null,
   "id": "079266b2",
   "metadata": {},
   "outputs": [],
   "source": [
    "# gross domestic product quarterly date from 2007 to 2021\n",
    "gdp_ie.head()"
   ]
  },
  {
   "cell_type": "code",
   "execution_count": null,
   "id": "f200cc2e",
   "metadata": {},
   "outputs": [],
   "source": [
    "# showing the summary of the new dataset to be merged: 60 rows, 3 columns\n",
    "# observing the Dtype \n",
    "gdp_ie.info()"
   ]
  },
  {
   "cell_type": "code",
   "execution_count": null,
   "id": "3d2266fc",
   "metadata": {},
   "outputs": [],
   "source": [
    "# converting time to datetime and adding new column quarter\n",
    "gdp_ie.Time = pd.to_datetime(gdp_ie.Time)\n",
    "gdp_ie [\"Quarter\"] = gdp_ie.Time.dt.quarter"
   ]
  },
  {
   "cell_type": "code",
   "execution_count": null,
   "id": "cceca8f1",
   "metadata": {},
   "outputs": [],
   "source": [
    "# replace function to change comma\n",
    "gdp_ie = gdp_ie.replace(',','', regex=True)"
   ]
  },
  {
   "cell_type": "code",
   "execution_count": null,
   "id": "a2dc7da5",
   "metadata": {},
   "outputs": [],
   "source": [
    "#converting GDP column to numeric \n",
    "gdp_ie = pd.DataFrame(gdp_ie)\n",
    "gdp_ie [\"Gross_domestic_product_(in million)\"] = pd.to_numeric(gdp_ie[\"Gross_domestic_product_(in million)\"], errors='coerce')"
   ]
  },
  {
   "cell_type": "code",
   "execution_count": null,
   "id": "cceafa89",
   "metadata": {},
   "outputs": [],
   "source": [
    "# showing the first five rows of the dataframe\n",
    "gdp_ie.head()"
   ]
  },
  {
   "cell_type": "code",
   "execution_count": null,
   "id": "4c789326",
   "metadata": {},
   "outputs": [],
   "source": [
    "# round_up the gross domestic product\n",
    "# round_up was done to get rid of the decimal points and so the numeric table will be clean and tidy\n",
    "import math # mathematical function is required to return the ceiling of integer greater or equal to\n",
    "gdp_ie['GDP_in_millions'] = gdp_ie['Gross_domestic_product_(in million)'].apply(math.ceil)"
   ]
  },
  {
   "cell_type": "code",
   "execution_count": null,
   "id": "ba6b1612",
   "metadata": {},
   "outputs": [],
   "source": [
    "# merging Ireland's Agricultural Products and GDP from 2007 to 2021\n",
    "ie_agri=pd.merge(ie_output, gdp_ie)\n",
    "ie_agri.head()"
   ]
  },
  {
   "cell_type": "code",
   "execution_count": null,
   "id": "e2655b28",
   "metadata": {},
   "outputs": [],
   "source": [
    "# representing the dimensionality of the final dataset\n",
    "ie_agri.shape"
   ]
  },
  {
   "cell_type": "code",
   "execution_count": null,
   "id": "141507b4",
   "metadata": {},
   "outputs": [],
   "source": [
    "# showing the summary of the final dataset: 60 rows, 15 columns\n",
    "# observing the Dtype \n",
    "ie_agri.info()"
   ]
  },
  {
   "cell_type": "code",
   "execution_count": null,
   "id": "7291ca7c",
   "metadata": {},
   "outputs": [],
   "source": [
    "# checking for missing values\n",
    "ie_agri.count()"
   ]
  },
  {
   "cell_type": "code",
   "execution_count": null,
   "id": "321e2205",
   "metadata": {},
   "outputs": [],
   "source": [
    "# rearranging columns name\n",
    "# not including column 'Quarter' as this variable is no longer needed\n",
    "ie_agri = ie_agri[['Country', 'Time', 'GDP_in_millions', 'Cereals_(including_seeds)', \n",
    "                 'Cattle', 'Cattle_excluding_calves', 'Calves', 'Pigs', 'Sheep_and_goats','Poultry', 'Animal_products', 'Milk', \n",
    "                'Eggs']]\n",
    "ie_agri.head()"
   ]
  },
  {
   "cell_type": "code",
   "execution_count": null,
   "id": "1897733b",
   "metadata": {},
   "outputs": [],
   "source": [
    "# plotting Ireland's movement of GDP from 2007 to 2021\n",
    "plt.rcParams[\"figure.figsize\"] = (30,15)\n",
    "sns.lineplot(data=ie_agri, x=\"Time\", y= \"GDP_in_millions\");"
   ]
  },
  {
   "cell_type": "code",
   "execution_count": null,
   "id": "cfdb6e46",
   "metadata": {},
   "outputs": [],
   "source": [
    "# separate plot for GDP value in million Euros\n",
    "# GDP has high value in million Euro compared to other variable prices are in hundred Euro\n",
    "fig = px.line(ie_agri, x='Time', y= 'GDP_in_millions')\n",
    "fig.show()"
   ]
  },
  {
   "cell_type": "code",
   "execution_count": null,
   "id": "be80519c",
   "metadata": {},
   "outputs": [],
   "source": [
    "# visualising the other variables - Ireland agricultural products price in hundred Euro from 2007 to 2021\n",
    "fig = px.line(ie_agri, x='Time', y= ['Milk','Cereals_(including_seeds)', 'Cattle', 'Cattle_excluding_calves', \n",
    "           'Calves', 'Pigs', 'Sheep_and_goats','Poultry', 'Animal_products','Eggs'])\n",
    "fig.show()"
   ]
  },
  {
   "cell_type": "code",
   "execution_count": null,
   "id": "18f560a1",
   "metadata": {},
   "outputs": [],
   "source": [
    "# visualising the variable price for Cattle, Cattle excluding calves and Calves from 2007 to 2021\n",
    "# separate plot was created to have a clear visualisation of the movements of the prices per year\n",
    "fig = px.line(ie_agri, x='Time', y= ['Cattle', 'Cattle_excluding_calves', 'Calves'])\n",
    "fig.show()"
   ]
  },
  {
   "cell_type": "code",
   "execution_count": null,
   "id": "70ba7741",
   "metadata": {},
   "outputs": [],
   "source": [
    "# visualising the variable price for Pigs, Sheep and Goats, Poulty and Animal Products from 2007 to 2021\n",
    "# separate plot was created to have a clear visualisation of the movements of the prices per year\n",
    "fig = px.line(ie_agri, x='Time', y= ['Pigs', 'Sheep_and_goats','Poultry', 'Animal_products',])\n",
    "fig.show()"
   ]
  },
  {
   "cell_type": "code",
   "execution_count": null,
   "id": "f26de4d2",
   "metadata": {},
   "outputs": [],
   "source": [
    "# visualising the variable price for Milk and Eggs from 2007 to 2021\n",
    "# separate plot was created to have a clear visualisation of the movements of the prices per year\n",
    "fig = px.line(ie_agri, x='Time', y= ['Milk', 'Eggs'])\n",
    "fig.show()"
   ]
  },
  {
   "cell_type": "code",
   "execution_count": null,
   "id": "64114b91",
   "metadata": {},
   "outputs": [],
   "source": [
    "# visualising all variables excluding GDP\n",
    "plt.rcParams[\"figure.figsize\"] = (30,15)\n",
    "ie_agri.plot(x='Time', y= ['Cereals_(including_seeds)', 'Cattle', 'Cattle_excluding_calves', \n",
    "           'Calves', 'Pigs', 'Sheep_and_goats','Poultry', 'Animal_products', 'Milk', 'Eggs'])\n",
    "plt.show()"
   ]
  },
  {
   "cell_type": "code",
   "execution_count": null,
   "id": "30e1da7a",
   "metadata": {},
   "outputs": [],
   "source": [
    "# showing the box plot of all variables\n",
    "ie_agri.plot.box()"
   ]
  },
  {
   "cell_type": "code",
   "execution_count": null,
   "id": "66b70824",
   "metadata": {},
   "outputs": [],
   "source": [
    "# Outlier Analysis\n",
    "# plotting with 5 rows and 2 columns\n",
    "fig, axs = plt.subplots(5,2, figsize = (15,8)) \n",
    "\n",
    "plt1 = sns.boxplot(ie_agri['Cereals_(including_seeds)'], ax = axs[0,0])\n",
    "plt2 = sns.boxplot(ie_agri['Cattle'], ax = axs[0,1])\n",
    "plt3 = sns.boxplot(ie_agri['Cattle_excluding_calves'], ax = axs[1,0])\n",
    "plt4 = sns.boxplot(ie_agri['Calves'], ax = axs[1,1])\n",
    "plt5 = sns.boxplot(ie_agri['Pigs'], ax = axs[2,0])\n",
    "plt6 = sns.boxplot(ie_agri['Sheep_and_goats'], ax = axs[2,1])\n",
    "plt7 = sns.boxplot(ie_agri['Poultry'], ax = axs[3,0])\n",
    "plt8 = sns.boxplot(ie_agri['Animal_products'], ax = axs[3,1])\n",
    "plt9 = sns.boxplot(ie_agri['Milk'], ax = axs[4,0])\n",
    "plt10 = sns.boxplot(ie_agri['Eggs'], ax = axs[4,1])\n",
    "\n",
    "plt.tight_layout()"
   ]
  },
  {
   "cell_type": "code",
   "execution_count": null,
   "id": "4058f714",
   "metadata": {},
   "outputs": [],
   "source": [
    "# checking the value of the outliers\n",
    "Q1 = ie_agri.quantile(0.25) \n",
    "Q3 = ie_agri.quantile(0.75) \n",
    "IQR = Q3 - Q1 \n",
    "print(IQR) "
   ]
  },
  {
   "cell_type": "code",
   "execution_count": null,
   "id": "31e3a3c2",
   "metadata": {},
   "outputs": [],
   "source": [
    "# The Five Number Summary\n",
    "ie_agri.describe()"
   ]
  },
  {
   "cell_type": "code",
   "execution_count": null,
   "id": "0c0e9bee",
   "metadata": {},
   "outputs": [],
   "source": [
    "# Statistical Test - Correlation of the Discrete Variables\n",
    "# correlation matrix\n",
    "correlation = ie_agri.corr()\n",
    "correlation"
   ]
  },
  {
   "cell_type": "code",
   "execution_count": null,
   "id": "20fa445d",
   "metadata": {},
   "outputs": [],
   "source": [
    "# plotting correlations on a heatmap\n",
    "\n",
    "# figure size\n",
    "plt.figure(figsize=(20,10))\n",
    "\n",
    "sns.heatmap(correlation, cmap=\"YlGnBu\", annot=True)\n",
    "plt.show();"
   ]
  },
  {
   "cell_type": "code",
   "execution_count": null,
   "id": "c894d427",
   "metadata": {},
   "outputs": [],
   "source": [
    "# to plot pairwise relationships in a dataset.\n",
    "sns.pairplot(ie_agri)"
   ]
  },
  {
   "cell_type": "code",
   "execution_count": null,
   "id": "5fa35ac9",
   "metadata": {},
   "outputs": [],
   "source": [
    "# using DataPrep.EDA tool in Python. \n",
    "# it allows to understand a Pandas/Dask DataFrame with a few lines of code in seconds.\n",
    "\n",
    "from dataprep.eda import create_report\n",
    "from pandas_profiling import ProfileReport"
   ]
  },
  {
   "cell_type": "code",
   "execution_count": null,
   "id": "077113dc",
   "metadata": {},
   "outputs": [],
   "source": [
    "# using scipy libray to import the stats\n",
    "from scipy import stats\n",
    "profile = ProfileReport(ie_agri, title= \"Ireland - Agricultural Output\", explorative=True)\n",
    "profile"
   ]
  },
  {
   "cell_type": "markdown",
   "id": "ed8986bf",
   "metadata": {},
   "source": [
    "# Denmark Data Exploration"
   ]
  },
  {
   "cell_type": "code",
   "execution_count": null,
   "id": "31d566d4",
   "metadata": {},
   "outputs": [],
   "source": [
    "# Merge two datasets into one\n",
    "dk_output = pd.concat([denmark1, denmark2])\n",
    "\n",
    "# Reset index for later merging\n",
    "dk_output.reset_index(drop=True, inplace=True)\n",
    "\n",
    "# Sort values to ensure date in time are in order\n",
    "dk_output.sort_values(['Time', 'Country'], inplace=True)"
   ]
  },
  {
   "cell_type": "code",
   "execution_count": null,
   "id": "c08c95e5",
   "metadata": {},
   "outputs": [],
   "source": [
    "# showing the first five rows of the merged dataframe\n",
    "dk_output.head()"
   ]
  },
  {
   "cell_type": "code",
   "execution_count": null,
   "id": "e37fe9c0",
   "metadata": {},
   "outputs": [],
   "source": [
    "# converting time to datetime and adding new column quarter\n",
    "dk_output.Time = pd.to_datetime(dk_output.Time)\n",
    "dk_output [\"Quarter\"] = dk_output.Time.dt.quarter"
   ]
  },
  {
   "cell_type": "code",
   "execution_count": null,
   "id": "5a02dd3f",
   "metadata": {},
   "outputs": [],
   "source": [
    "# showing the first five rows of the dataframe\n",
    "dk_output.head()"
   ]
  },
  {
   "cell_type": "code",
   "execution_count": null,
   "id": "90607dd9",
   "metadata": {},
   "outputs": [],
   "source": [
    "# showing the summary of the dataset: 60 rows, 13 columns\n",
    "# observing the Dtype \n",
    "dk_output.info()"
   ]
  },
  {
   "cell_type": "code",
   "execution_count": null,
   "id": "43e3c2a0",
   "metadata": {},
   "outputs": [],
   "source": [
    "# gross domestic product quarterly date from 2007 to 2021\n",
    "gdp_dk.head()"
   ]
  },
  {
   "cell_type": "code",
   "execution_count": null,
   "id": "18c3783b",
   "metadata": {},
   "outputs": [],
   "source": [
    "# showing the summary of the new dataset to be merged: 60 rows, 3 columns\n",
    "# observing the Dtype \n",
    "gdp_dk.info()"
   ]
  },
  {
   "cell_type": "code",
   "execution_count": null,
   "id": "2458a71e",
   "metadata": {},
   "outputs": [],
   "source": [
    "# converting time to datetime and adding new column quarter\n",
    "gdp_dk.Time = pd.to_datetime(gdp_dk.Time)\n",
    "gdp_dk [\"Quarter\"] = gdp_dk.Time.dt.quarter"
   ]
  },
  {
   "cell_type": "code",
   "execution_count": null,
   "id": "1cc7a504",
   "metadata": {},
   "outputs": [],
   "source": [
    "# replace function to change comma\n",
    "gdp_dk = gdp_dk.replace(',','', regex=True)"
   ]
  },
  {
   "cell_type": "code",
   "execution_count": null,
   "id": "20995074",
   "metadata": {},
   "outputs": [],
   "source": [
    "#converting GDP column to numeric \n",
    "gdp_dk = pd.DataFrame(gdp_dk)\n",
    "gdp_dk['Gross_domestic_product (in million) '] = pd.to_numeric(gdp_dk['Gross_domestic_product (in million) '], errors='coerce')"
   ]
  },
  {
   "cell_type": "code",
   "execution_count": null,
   "id": "f51769a2",
   "metadata": {},
   "outputs": [],
   "source": [
    "# showing the first five rows of the dataframe\n",
    "gdp_dk.head()"
   ]
  },
  {
   "cell_type": "code",
   "execution_count": null,
   "id": "503d51b7",
   "metadata": {},
   "outputs": [],
   "source": [
    "# round_up the gross domestic product\n",
    "# round_up was done to get rid of the decimal points and so the numeric table will be clean and tidy\n",
    "import math # mathematical function is required to return the ceiling of integer greater or equal to\n",
    "gdp_dk['GDP_in_millions'] = gdp_dk['Gross_domestic_product (in million) '].apply(math.ceil)"
   ]
  },
  {
   "cell_type": "code",
   "execution_count": null,
   "id": "a1cc59f8",
   "metadata": {},
   "outputs": [],
   "source": [
    "# merging Denmark's Agricultural Products and GDP from 2007 to 2021\n",
    "dk_agri=pd.merge(dk_output, gdp_dk)\n",
    "dk_agri.head()"
   ]
  },
  {
   "cell_type": "code",
   "execution_count": null,
   "id": "d2367e09",
   "metadata": {},
   "outputs": [],
   "source": [
    "# representing the dimensionality of the final dataset\n",
    "dk_agri.shape"
   ]
  },
  {
   "cell_type": "code",
   "execution_count": null,
   "id": "91bc52fd",
   "metadata": {},
   "outputs": [],
   "source": [
    "# showing the summary of the final dataset: 60 rows, 15 columns\n",
    "# observing the Dtype \n",
    "dk_agri.info()"
   ]
  },
  {
   "cell_type": "code",
   "execution_count": null,
   "id": "06f82a42",
   "metadata": {},
   "outputs": [],
   "source": [
    "# converting object variable to float\n",
    "dk_agri [\"Eggs\"] = pd.to_numeric(dk_agri[\"Eggs\"], errors='coerce')\n",
    "dk_agri = dk_agri.replace(np.nan, 0, regex=True)"
   ]
  },
  {
   "cell_type": "code",
   "execution_count": null,
   "id": "07365544",
   "metadata": {},
   "outputs": [],
   "source": [
    "# checking for missing values\n",
    "dk_agri.count()"
   ]
  },
  {
   "cell_type": "code",
   "execution_count": null,
   "id": "b86d1e78",
   "metadata": {},
   "outputs": [],
   "source": [
    "# rearranging columns name\n",
    "# not including 'Quarter'\n",
    "dk_agri = dk_agri[['Country', 'Time', 'GDP_in_millions', 'Cereals_(including_seeds)', \n",
    "                 'Cattle', 'Cattle_excluding_calves', 'Calves', 'Pigs', 'Sheep_and_goats','Poultry', 'Animal_products', 'Milk', \n",
    "                'Eggs']]\n",
    "dk_agri.head()"
   ]
  },
  {
   "cell_type": "code",
   "execution_count": null,
   "id": "c86d2cd7",
   "metadata": {},
   "outputs": [],
   "source": [
    "# visualising Denmark's GDP from 2007 to 2011\n",
    "plt.rcParams[\"figure.figsize\"] = (30,15)\n",
    "sns.lineplot(data=dk_agri, x=\"Time\", y= \"GDP_in_millions\");"
   ]
  },
  {
   "cell_type": "code",
   "execution_count": null,
   "id": "aa0769b1",
   "metadata": {},
   "outputs": [],
   "source": [
    "# separate plot for GDP value in million Euros from 2007 to 2021\n",
    "# GDP has high value in million Euro compared to other variable prices are in hundred Euro\n",
    "fig = px.line(dk_agri, x='Time', y= 'GDP_in_millions')\n",
    "fig.show()"
   ]
  },
  {
   "cell_type": "code",
   "execution_count": null,
   "id": "623d93f0",
   "metadata": {},
   "outputs": [],
   "source": [
    "# visualising the other variables - Denmark's agricultural products price in hundred Euro\n",
    "fig = px.line(dk_agri, x='Time', y= ['Milk','Cereals_(including_seeds)', 'Cattle', 'Cattle_excluding_calves', \n",
    "           'Calves', 'Pigs', 'Sheep_and_goats','Poultry', 'Animal_products','Eggs'])\n",
    "fig.show()"
   ]
  },
  {
   "cell_type": "code",
   "execution_count": null,
   "id": "f8209a17",
   "metadata": {},
   "outputs": [],
   "source": [
    "# visualising the variable price for Cattle, Cattle excluding calves and Calves from 2007 to 2021\n",
    "# separate plot was created to have a clear visualisation of the movements of the prices per year\n",
    "fig = px.line(dk_agri, x='Time', y= ['Cattle', 'Cattle_excluding_calves', 'Calves'])\n",
    "fig.show()"
   ]
  },
  {
   "cell_type": "code",
   "execution_count": null,
   "id": "9642bc65",
   "metadata": {},
   "outputs": [],
   "source": [
    "# visualising the variable price for Pigs, Sheep and Goats, Poulty and Animal Products from 2007 to 2021\n",
    "# separate plot was created to have a clear visualisation of the movements of the prices per year\n",
    "fig = px.line(ie_agri, x='Time', y= ['Pigs', 'Sheep_and_goats','Poultry', 'Animal_products',])\n",
    "fig.show()"
   ]
  },
  {
   "cell_type": "code",
   "execution_count": null,
   "id": "6f63c116",
   "metadata": {},
   "outputs": [],
   "source": [
    "# visualising the variable price for Milk and Eggs from 2007 to 2021\n",
    "# separate plot was created to have a clear visualisation of the movements of the prices per year\n",
    "fig = px.line(dk_agri, x='Time', y= ['Milk', 'Eggs'])\n",
    "fig.show()"
   ]
  },
  {
   "cell_type": "code",
   "execution_count": null,
   "id": "6225af6f",
   "metadata": {},
   "outputs": [],
   "source": [
    "# visualising all variable excluding GDP from 2007 to 2021\n",
    "plt.rcParams[\"figure.figsize\"] = (30,15)\n",
    "dk_agri.plot(x='Time', y= ['Cereals_(including_seeds)', 'Cattle', 'Cattle_excluding_calves', \n",
    "           'Calves', 'Pigs', 'Sheep_and_goats','Poultry', 'Animal_products', 'Milk', 'Eggs'])\n",
    "plt.show()"
   ]
  },
  {
   "cell_type": "code",
   "execution_count": null,
   "id": "18261117",
   "metadata": {},
   "outputs": [],
   "source": [
    "# showing the box plot of all variables\n",
    "dk_agri.plot.box()"
   ]
  },
  {
   "cell_type": "code",
   "execution_count": null,
   "id": "c28035f8",
   "metadata": {},
   "outputs": [],
   "source": [
    "# Outlier Analysis\n",
    "# plotting with 5 rows and 2 columns\n",
    "fig, axs = plt.subplots(5,2, figsize = (15,8)) \n",
    "\n",
    "plt1 = sns.boxplot(dk_agri['Cereals_(including_seeds)'], ax = axs[0,0])\n",
    "plt2 = sns.boxplot(dk_agri['Cattle'], ax = axs[0,1])\n",
    "plt3 = sns.boxplot(dk_agri['Cattle_excluding_calves'], ax = axs[1,0])\n",
    "plt4 = sns.boxplot(dk_agri['Calves'], ax = axs[1,1])\n",
    "plt5 = sns.boxplot(dk_agri['Pigs'], ax = axs[2,0])\n",
    "plt6 = sns.boxplot(dk_agri['Sheep_and_goats'], ax = axs[2,1])\n",
    "plt7 = sns.boxplot(dk_agri['Poultry'], ax = axs[3,0])\n",
    "plt8 = sns.boxplot(dk_agri['Animal_products'], ax = axs[3,1])\n",
    "plt9 = sns.boxplot(dk_agri['Milk'], ax = axs[4,0])\n",
    "plt10 = sns.boxplot(dk_agri['Eggs'], ax = axs[4,1])\n",
    "\n",
    "plt.tight_layout()"
   ]
  },
  {
   "cell_type": "code",
   "execution_count": null,
   "id": "616cbcb1",
   "metadata": {},
   "outputs": [],
   "source": [
    "# checking the value of the outliers\n",
    "Q1 = dk_agri.quantile(0.25) \n",
    "Q3 = dk_agri.quantile(0.75) \n",
    "IQR = Q3 - Q1 \n",
    "print(IQR) "
   ]
  },
  {
   "cell_type": "code",
   "execution_count": null,
   "id": "b6c5b062",
   "metadata": {},
   "outputs": [],
   "source": [
    "# The Five Number Summary\n",
    "dk_agri.describe()"
   ]
  },
  {
   "cell_type": "code",
   "execution_count": null,
   "id": "f5fee932",
   "metadata": {},
   "outputs": [],
   "source": [
    "# Statistical Test - Correlation of the Discrete Variables\n",
    "# correlation matrix\n",
    "correlation = dk_agri.corr()\n",
    "correlation"
   ]
  },
  {
   "cell_type": "code",
   "execution_count": null,
   "id": "f1927f83",
   "metadata": {},
   "outputs": [],
   "source": [
    "# plotting correlations on a heatmap\n",
    "\n",
    "# figure size\n",
    "plt.figure(figsize=(20,10))\n",
    "\n",
    "sns.heatmap(correlation, cmap=\"BuPu\", annot=True)\n",
    "plt.show();"
   ]
  },
  {
   "cell_type": "code",
   "execution_count": null,
   "id": "574cc91b",
   "metadata": {},
   "outputs": [],
   "source": [
    "# using DataPrep.EDA tool in Python. \n",
    "# it allows to understand a Pandas/Dask DataFrame with a few lines of code in seconds.\n",
    "# using scipy libray to import the stats\n",
    "from scipy import stats\n",
    "profile = ProfileReport(dk_agri, title= \"Denmark - Agricultural Output\", explorative=True)\n",
    "profile"
   ]
  },
  {
   "cell_type": "markdown",
   "id": "b9465b98",
   "metadata": {},
   "source": [
    "# Statistical Analysis"
   ]
  },
  {
   "cell_type": "markdown",
   "id": "1bca9d6c",
   "metadata": {},
   "source": [
    "## Descriptive Statistic"
   ]
  },
  {
   "cell_type": "code",
   "execution_count": null,
   "id": "fd6e6bed",
   "metadata": {},
   "outputs": [],
   "source": [
    "# mean of Ireland's GDP\n",
    "ie_gdp_mean = ie_agri['GDP_in_millions'].mean()\n",
    "print(ie_gdp_mean)"
   ]
  },
  {
   "cell_type": "code",
   "execution_count": null,
   "id": "4289a4a8",
   "metadata": {},
   "outputs": [],
   "source": [
    "# median of Ireland's GDP\n",
    "ie_gdp_median = ie_agri['GDP_in_millions'].median()\n",
    "print(ie_gdp_median)"
   ]
  },
  {
   "cell_type": "code",
   "execution_count": null,
   "id": "21234c6f",
   "metadata": {},
   "outputs": [],
   "source": [
    "# mode of Ireland's GDP\n",
    "ie_gdp_mode = ie_agri['GDP_in_millions'].mode()\n",
    "print(ie_gdp_mode)"
   ]
  },
  {
   "cell_type": "code",
   "execution_count": null,
   "id": "c326713c",
   "metadata": {},
   "outputs": [],
   "source": [
    "# standard deviation of Ireland's GDP\n",
    "ie_deviation = ie_agri['GDP_in_millions'].std()\n",
    "print(ie_deviation)"
   ]
  },
  {
   "cell_type": "code",
   "execution_count": null,
   "id": "dfbe8c71",
   "metadata": {},
   "outputs": [],
   "source": [
    "# Variable GDP\n",
    "# Data is not normally distributed\n",
    "fig = plt.figure(figsize = (30,5))\n",
    "ax1 = fig.add_subplot(121)\n",
    "sns.distplot(ie_agri['GDP_in_millions'], kde=True);"
   ]
  },
  {
   "cell_type": "markdown",
   "id": "292e1fcb",
   "metadata": {},
   "source": [
    "## Inferential Statistics - T-Test One Population"
   ]
  },
  {
   "cell_type": "code",
   "execution_count": null,
   "id": "94ecbc2f",
   "metadata": {},
   "outputs": [],
   "source": [
    "# Importing libraries\n",
    "import numpy as np\n",
    "import matplotlib.pyplot as plt\n",
    "import pandas as pd\n",
    "import scipy.stats as stats\n",
    "from statsmodels.stats import weightstats"
   ]
  },
  {
   "cell_type": "code",
   "execution_count": null,
   "id": "13dbe5e2",
   "metadata": {},
   "outputs": [],
   "source": [
    "# name the dataframe\n",
    "ie_ttest1 = pd.DataFrame(ie_agri)"
   ]
  },
  {
   "cell_type": "code",
   "execution_count": null,
   "id": "9fd4b751",
   "metadata": {},
   "outputs": [],
   "source": [
    "# Variable Calves\n",
    "# Data is not normally distributed\n",
    "fig = plt.figure(figsize = (30,5))\n",
    "ax1 = fig.add_subplot(121)\n",
    "sns.distplot(ie_ttest1['Calves'], kde=True);"
   ]
  },
  {
   "cell_type": "code",
   "execution_count": null,
   "id": "4c5285b6",
   "metadata": {},
   "outputs": [],
   "source": [
    "# Define the variable \n",
    "# price of calves in euros\n",
    "X = ie_ttest1['Calves']; X"
   ]
  },
  {
   "cell_type": "code",
   "execution_count": null,
   "id": "ece86435",
   "metadata": {},
   "outputs": [],
   "source": [
    "# test No. 1\n",
    "#H0 : u = 120\n",
    "#H1 : u =! 120\n",
    "#stats.ttest_1samp(X,mu of H0)\n",
    "stats.ttest_1samp(X,120)"
   ]
  },
  {
   "cell_type": "markdown",
   "id": "20b65cdd",
   "metadata": {},
   "source": [
    "For T-Test Number 1, the pvalue is less than 0.05, therefore the null hypothesis is rejected."
   ]
  },
  {
   "cell_type": "code",
   "execution_count": null,
   "id": "76f1ed2a",
   "metadata": {},
   "outputs": [],
   "source": [
    "# test No. 2\n",
    "#H0 : u = 135\n",
    "#H1 : u =! 135\n",
    "#stats.ttest_1samp(X,mu of H0)\n",
    "stats.ttest_1samp(X,135)"
   ]
  },
  {
   "cell_type": "markdown",
   "id": "b4e60e34",
   "metadata": {},
   "source": [
    "For T-Test Number 2, the pvalue is greater than 0.05, therefore the null hypothesis is accepted."
   ]
  },
  {
   "cell_type": "code",
   "execution_count": null,
   "id": "edb8bec6",
   "metadata": {},
   "outputs": [],
   "source": [
    "# test No. 3\n",
    "#H0 : u = 195\n",
    "#H1 : u =! 195\n",
    "#stats.ttest_1samp(X,mu of H0)\n",
    "stats.ttest_1samp(X,195)"
   ]
  },
  {
   "cell_type": "markdown",
   "id": "451d75c7",
   "metadata": {},
   "source": [
    "For T-Test Number 3, the pvalue is greater than 0.05, therefore the null hypothesis is accepted."
   ]
  },
  {
   "cell_type": "markdown",
   "id": "19c9febe",
   "metadata": {},
   "source": [
    "## Inferential Statistics - T-Test with Different Populations"
   ]
  },
  {
   "cell_type": "code",
   "execution_count": null,
   "id": "e2b2e710",
   "metadata": {},
   "outputs": [],
   "source": [
    "# dataset\n",
    "ie_output = pd.DataFrame(ie_agri)\n",
    "dk_output = pd.DataFrame(dk_agri)"
   ]
  },
  {
   "cell_type": "code",
   "execution_count": null,
   "id": "c89a3b78",
   "metadata": {},
   "outputs": [],
   "source": [
    "# 10 variables for two countries\n",
    "ie_output = ie_output[['GDP_in_millions', 'Cereals_(including_seeds)', \n",
    "                 'Cattle', 'Cattle_excluding_calves', 'Calves', 'Pigs', 'Sheep_and_goats','Poultry', 'Animal_products', 'Milk', \n",
    "                'Eggs']]\n",
    "\n",
    "dk_output = dk_output[['GDP_in_millions', 'Cereals_(including_seeds)', \n",
    "                 'Cattle', 'Cattle_excluding_calves', 'Calves', 'Pigs', 'Sheep_and_goats','Poultry', 'Animal_products', 'Milk', \n",
    "                'Eggs']]"
   ]
  },
  {
   "cell_type": "code",
   "execution_count": null,
   "id": "60294074",
   "metadata": {},
   "outputs": [],
   "source": [
    "# using the ttest_ind() function from the scipy.stats library to conduct a two sample t-test.\n",
    "stats.ttest_ind(ie_output, dk_output, equal_var=True)"
   ]
  },
  {
   "cell_type": "code",
   "execution_count": null,
   "id": "e474dbae",
   "metadata": {},
   "outputs": [],
   "source": [
    "# assumming the populations have equal variance\n",
    "print(np.var(ie_output), np.var(dk_output))"
   ]
  },
  {
   "cell_type": "markdown",
   "id": "5f479f26",
   "metadata": {},
   "source": [
    "The two hypotheses for this particular two sample t-test are as follows:\n",
    "H0: µ1 = µ2 (the two population means are equal)\n",
    "HA: µ1 ≠µ2 (the two population means are not equal)"
   ]
  },
  {
   "cell_type": "code",
   "execution_count": null,
   "id": "0db541f4",
   "metadata": {},
   "outputs": [],
   "source": [
    "#perform two sample t-test with equal variances\n",
    "stats.ttest_ind(a=ie_output, b=dk_output, equal_var=True)"
   ]
  },
  {
   "cell_type": "markdown",
   "id": "7b48a111",
   "metadata": {},
   "source": [
    "The p-value of all the variables is greater than alpha = 0.05, therefore, the null hypothesis is accepted. There is no sufficient evidence to say the two populations are different."
   ]
  },
  {
   "cell_type": "markdown",
   "id": "7138c394",
   "metadata": {},
   "source": [
    "## Inferential Statistics - Non Parametric Tests"
   ]
  },
  {
   "cell_type": "code",
   "execution_count": null,
   "id": "bbaf0d8f",
   "metadata": {},
   "outputs": [],
   "source": [
    "eu_output = pd.read_csv('output2011_2017.csv')\n",
    "eu_output.head()"
   ]
  },
  {
   "cell_type": "code",
   "execution_count": null,
   "id": "e7e30140",
   "metadata": {},
   "outputs": [],
   "source": [
    "# representing the dimensionality of the dataframe\n",
    "eu_output.shape"
   ]
  },
  {
   "cell_type": "code",
   "execution_count": null,
   "id": "cb048720",
   "metadata": {},
   "outputs": [],
   "source": [
    "#Normality plot of the variable \"Milk\"\n",
    "stats.probplot(eu_output.Milk, plot=plt)\n",
    "plt.figure()"
   ]
  },
  {
   "cell_type": "markdown",
   "id": "b8cdbe83",
   "metadata": {},
   "source": [
    "### Shapiro Wilk Test"
   ]
  },
  {
   "cell_type": "code",
   "execution_count": null,
   "id": "f026e504",
   "metadata": {},
   "outputs": [],
   "source": [
    "#Shapiro wilk test for Ireland's Milk\n",
    "stats.shapiro(eu_output.Milk[eu_output.Country == \"Ireland\"])"
   ]
  },
  {
   "cell_type": "code",
   "execution_count": null,
   "id": "7bd4ef70",
   "metadata": {},
   "outputs": [],
   "source": [
    "#Shapiro wilk test for Denmark's Milk\n",
    "stats.shapiro(eu_output.Milk[eu_output.Country == \"Denmark\"])"
   ]
  },
  {
   "cell_type": "code",
   "execution_count": null,
   "id": "63ce997d",
   "metadata": {},
   "outputs": [],
   "source": [
    "#Shapiro wilk test for UK's Milk\n",
    "stats.shapiro(eu_output.Milk[eu_output.Country == \"United Kingdom\"])"
   ]
  },
  {
   "cell_type": "code",
   "execution_count": null,
   "id": "a8b267f4",
   "metadata": {},
   "outputs": [],
   "source": [
    "#Shapiro wilk test for Belgium's Milk\n",
    "stats.shapiro(eu_output.Milk[eu_output.Country == \"Belgium\"])"
   ]
  },
  {
   "cell_type": "code",
   "execution_count": null,
   "id": "e09c9a58",
   "metadata": {},
   "outputs": [],
   "source": [
    "#Shapiro wilk test for Italy's Milk\n",
    "stats.shapiro(eu_output.Milk[eu_output.Country == \"Italy\"])"
   ]
  },
  {
   "cell_type": "code",
   "execution_count": null,
   "id": "38bedffe",
   "metadata": {},
   "outputs": [],
   "source": [
    "# checking the counts for each country\n",
    "eu_output['Country'].value_counts()"
   ]
  },
  {
   "cell_type": "code",
   "execution_count": null,
   "id": "79542490",
   "metadata": {},
   "outputs": [],
   "source": [
    "Ireland = eu_output.Milk[eu_output.Country == \"Ireland\"]"
   ]
  },
  {
   "cell_type": "code",
   "execution_count": null,
   "id": "7a6ef53d",
   "metadata": {},
   "outputs": [],
   "source": [
    "Denmark = eu_output.Milk[eu_output.Country == \"Denmark\"]"
   ]
  },
  {
   "cell_type": "code",
   "execution_count": null,
   "id": "66868ff0",
   "metadata": {},
   "outputs": [],
   "source": [
    "UK  = eu_output.Milk[eu_output.Country == \"United Kingdom\"]"
   ]
  },
  {
   "cell_type": "code",
   "execution_count": null,
   "id": "b8505342",
   "metadata": {},
   "outputs": [],
   "source": [
    "Belgium  = eu_output.Milk[eu_output.Country == \"Belgium\"]"
   ]
  },
  {
   "cell_type": "code",
   "execution_count": null,
   "id": "e304fd53",
   "metadata": {},
   "outputs": [],
   "source": [
    "Italy  = eu_output.Milk[eu_output.Country == \"Italy\"]"
   ]
  },
  {
   "cell_type": "code",
   "execution_count": null,
   "id": "7d0c0d34",
   "metadata": {},
   "outputs": [],
   "source": [
    "sd_ie = Ireland.std()\n",
    "sd_ie"
   ]
  },
  {
   "cell_type": "code",
   "execution_count": null,
   "id": "aed4c0fc",
   "metadata": {},
   "outputs": [],
   "source": [
    "sd_de = Denmark.std()\n",
    "sd_de"
   ]
  },
  {
   "cell_type": "code",
   "execution_count": null,
   "id": "0e2a7c60",
   "metadata": {},
   "outputs": [],
   "source": [
    "sd_uk = UK.std()\n",
    "sd_uk"
   ]
  },
  {
   "cell_type": "code",
   "execution_count": null,
   "id": "c0d85e7a",
   "metadata": {},
   "outputs": [],
   "source": [
    "sd_be = Belgium.std()\n",
    "sd_be"
   ]
  },
  {
   "cell_type": "code",
   "execution_count": null,
   "id": "d3f74536",
   "metadata": {},
   "outputs": [],
   "source": [
    "sd_it = Italy.std()\n",
    "sd_it"
   ]
  },
  {
   "cell_type": "markdown",
   "id": "7d49636d",
   "metadata": {},
   "source": [
    "### Levene's Test"
   ]
  },
  {
   "cell_type": "code",
   "execution_count": null,
   "id": "760bcc9a",
   "metadata": {},
   "outputs": [],
   "source": [
    "#Homogeinity of variance: Levene's test\n",
    "from scipy.stats import levene"
   ]
  },
  {
   "cell_type": "code",
   "execution_count": null,
   "id": "1b3a429a",
   "metadata": {},
   "outputs": [],
   "source": [
    "levene(Ireland, Denmark, UK, Belgium, Italy, center = 'mean')"
   ]
  },
  {
   "cell_type": "markdown",
   "id": "a5c37179",
   "metadata": {},
   "source": [
    "The pvalue=0.13569490854616326 is not less than 0.05. This would mean that it fails to reject the null hypothesis. There is not sufficient evidence to say that the variance of milk in 5 countries is significantly different."
   ]
  },
  {
   "cell_type": "markdown",
   "id": "a124ca0d",
   "metadata": {},
   "source": [
    "### Mann-Whitney U test"
   ]
  },
  {
   "cell_type": "code",
   "execution_count": null,
   "id": "13dfa812",
   "metadata": {},
   "outputs": [],
   "source": [
    "#perform the Mann-Whitney U test\n",
    "\n",
    "def output_umann_whitney(ie_output, dk_output):\n",
    "        list_1 = ie_output\n",
    "        list_2 = dk_output  \n",
    "        result = stats.mannwhitneyu(list_1, list_2,alternative='two-sided')\n",
    "        if result.pvalue <= 0.05:\n",
    "            print(f\"The p-value of Ireland versus Denmark is {result.pvalue}\\n,the null hypothesis is rejected\")\n",
    "            print(f\"round{result.pvalue}\\n\")\n",
    "        else:\n",
    "            print(f\"The p-value of Ireland versus Denmark is {result.pvalue}\\n,the null hypothesis is accepted\")\n",
    "            print(f\"round{result.pvalue}\\n\")"
   ]
  },
  {
   "cell_type": "code",
   "execution_count": null,
   "id": "64f6021e",
   "metadata": {},
   "outputs": [],
   "source": [
    "# Null hypothesis: Two groups have equal median\n",
    "# Alternative hypothesis: Two groups does not have equal median\n",
    "output_umann_whitney(ie_output[\"Milk\"], dk_output[\"Milk\"])"
   ]
  },
  {
   "cell_type": "code",
   "execution_count": null,
   "id": "220e6bfc",
   "metadata": {},
   "outputs": [],
   "source": [
    "# Null hypothesis: Two groups have equal median\n",
    "# Alternative hypothesis: Two groups does not have equal median\n",
    "output_umann_whitney(ie_output[\"GDP_in_millions\"], dk_output[\"GDP_in_millions\"])"
   ]
  },
  {
   "cell_type": "code",
   "execution_count": null,
   "id": "6b34e6da",
   "metadata": {},
   "outputs": [],
   "source": [
    "# Null hypothesis: Two groups have equal median\n",
    "# Alternative hypothesis: Two groups does not have equal median\n",
    "output_umann_whitney(ie_output[\"Cereals_(including_seeds)\"], dk_output[\"Cereals_(including_seeds)\"])"
   ]
  },
  {
   "cell_type": "code",
   "execution_count": null,
   "id": "4a2a876c",
   "metadata": {},
   "outputs": [],
   "source": [
    "# Null hypothesis: Two groups have equal median\n",
    "# Alternative hypothesis: Two groups does not have equal median\n",
    "output_umann_whitney(ie_output[\"Cattle\"], dk_output[\"Cattle\"])"
   ]
  },
  {
   "cell_type": "code",
   "execution_count": null,
   "id": "b04f951f",
   "metadata": {},
   "outputs": [],
   "source": [
    "# Null hypothesis: Two groups have equal median\n",
    "# Alternative hypothesis: Two groups does not have equal median\n",
    "output_umann_whitney(ie_output[\"Pigs\"], dk_output[\"Pigs\"])"
   ]
  },
  {
   "cell_type": "code",
   "execution_count": null,
   "id": "b620ab21",
   "metadata": {},
   "outputs": [],
   "source": [
    "# Null hypothesis: Two groups have equal median\n",
    "# Alternative hypothesis: Two groups does not have equal median\n",
    "output_umann_whitney(ie_output[\"Eggs\"], dk_output[\"Eggs\"])"
   ]
  },
  {
   "cell_type": "markdown",
   "id": "e4eb996a",
   "metadata": {},
   "source": [
    "# Generalised Linear Model"
   ]
  },
  {
   "cell_type": "markdown",
   "id": "add25002",
   "metadata": {},
   "source": [
    "## Generalised Linear Model using Ireland's Agricultural Output Dataset"
   ]
  },
  {
   "cell_type": "code",
   "execution_count": null,
   "id": "f5ae5aac",
   "metadata": {},
   "outputs": [],
   "source": [
    "# importing libraries\n",
    "import scipy.stats as st\n",
    "from sklearn.linear_model import TweedieRegressor\n",
    "from sklearn.metrics import mean_absolute_error\n",
    "from sklearn.model_selection import cross_val_score\n",
    "from sklearn.model_selection import GridSearchCV\n",
    "from sklearn.model_selection import RepeatedKFold\n",
    "from sklearn.model_selection import train_test_split\n",
    "from sklearn.preprocessing import scale\n",
    "from sklearn import metrics  "
   ]
  },
  {
   "cell_type": "code",
   "execution_count": null,
   "id": "d7505277",
   "metadata": {},
   "outputs": [],
   "source": [
    "# Ireland dataset\n",
    "ie_agri_linear = pd.DataFrame (ie_agri)"
   ]
  },
  {
   "cell_type": "code",
   "execution_count": null,
   "id": "dc92a964",
   "metadata": {},
   "outputs": [],
   "source": [
    "# dropping column 'Time'\n",
    "ie_agri_linear.drop(columns=['Time'],inplace=True)"
   ]
  },
  {
   "cell_type": "code",
   "execution_count": null,
   "id": "2c41fda0",
   "metadata": {},
   "outputs": [],
   "source": [
    "# country in dataset is categorical (factor) variables, which needs to be dummy encoded. \n",
    "# then dropping one level of the factor when encoding for linear regression in order to avoid introducing multicolinearity.\n",
    "ie_agri_linear_encoded = pd.get_dummies(data=ie_agri_linear,drop_first=True)\n",
    "ie_agri_linear_encoded"
   ]
  },
  {
   "cell_type": "code",
   "execution_count": null,
   "id": "ea5751b6",
   "metadata": {},
   "outputs": [],
   "source": [
    "# splitting the data into train and test partitions, using a 90/10 train/test split.\n",
    "train, test = train_test_split(ie_agri_linear_encoded,test_size = 0.1,random_state=0)"
   ]
  },
  {
   "cell_type": "code",
   "execution_count": null,
   "id": "a6d6d678",
   "metadata": {},
   "outputs": [],
   "source": [
    "# splitting the train and test partitions into sets of independent variables (X) and dependent variables (y).\n",
    "X_train = train.drop(['GDP_in_millions'],axis=1)\n",
    "y_train = train['GDP_in_millions']\n",
    "X_test = test.drop(['GDP_in_millions'],axis=1)\n",
    "y_test = test['GDP_in_millions']"
   ]
  },
  {
   "cell_type": "code",
   "execution_count": null,
   "id": "f9e2ded1",
   "metadata": {},
   "outputs": [],
   "source": [
    "# scale the independent variables in the train and test datasets so that each feature (variable) has a mean of zero and a standard deviation of one\n",
    "X_train_scaled = scale(X_train)\n",
    "X_test_scaled = scale(X_test)"
   ]
  },
  {
   "cell_type": "markdown",
   "id": "28000f4e",
   "metadata": {},
   "source": [
    "### Tweedie Regression"
   ]
  },
  {
   "cell_type": "code",
   "execution_count": null,
   "id": "eaf3f38e",
   "metadata": {},
   "outputs": [],
   "source": [
    "# create the model with default parameters.\n",
    "tweedie_model = TweedieRegressor(max_iter=1000)"
   ]
  },
  {
   "cell_type": "code",
   "execution_count": null,
   "id": "425843ce",
   "metadata": {},
   "outputs": [],
   "source": [
    "# create a tuning grid to find (near) optimal values for the hyperparameters.\n",
    "tune_grid = {\n",
    "    'power' : np.append([0],np.arange(1,3.05,0.05)),\n",
    "    'alpha' : 10**np.arange(-10,6,dtype=float)\n",
    "}\n",
    "tune_grid"
   ]
  },
  {
   "cell_type": "code",
   "execution_count": null,
   "id": "d37b60fe",
   "metadata": {},
   "outputs": [],
   "source": [
    "# setting up cross-fold valiation - using 10-fold cross-validation repeated 10 times. \n",
    "# can reduce the number of repeats to speed up computation time.\n",
    "cv = RepeatedKFold(n_splits=10, n_repeats=10, random_state=0)"
   ]
  },
  {
   "cell_type": "code",
   "execution_count": null,
   "id": "01d2f017",
   "metadata": {},
   "outputs": [],
   "source": [
    "# hyperparameter optimisation.\n",
    "opt = GridSearchCV(\n",
    "    tweedie_model, tune_grid, scoring='neg_mean_absolute_error', \n",
    "    cv=cv)\n",
    "opt_results = opt.fit(X_train_scaled, y_train+1)"
   ]
  },
  {
   "cell_type": "code",
   "execution_count": null,
   "id": "f34dbba2",
   "metadata": {},
   "outputs": [],
   "source": [
    "# printing the best results found after the completion of the hyperparameter optimisation.\n",
    "format_string = 'Average cross-validated in-sample MAE {:.3f} {:.3f}'\n",
    "print('MAE: {:.3f} with parameters: {}'.format(-opt_results.best_score_,\n",
    "                                                   str(opt_results.best_params_)))"
   ]
  },
  {
   "cell_type": "code",
   "execution_count": null,
   "id": "a7cfba9c",
   "metadata": {},
   "outputs": [],
   "source": [
    "# training a Tweedie Regressor model with the optimum parameter values. \n",
    "tweedie_model = TweedieRegressor(\n",
    "    alpha=opt_results.best_params_['alpha'],\n",
    "    power=opt_results.best_params_['power'],max_iter=5000)\n",
    "tweedie_model.fit(X_train_scaled,y_train+1)"
   ]
  },
  {
   "cell_type": "markdown",
   "id": "313268d4",
   "metadata": {},
   "source": [
    "### Evaluating the Tweedie Regression model"
   ]
  },
  {
   "cell_type": "code",
   "execution_count": null,
   "id": "d83552ff",
   "metadata": {},
   "outputs": [],
   "source": [
    "# predicting the 𝑦 values for the X_test data. \n",
    "y_predicted = tweedie_model.predict(X_test_scaled) - 1\n",
    "y_predicted"
   ]
  },
  {
   "cell_type": "code",
   "execution_count": null,
   "id": "f7be9059",
   "metadata": {},
   "outputs": [],
   "source": [
    "# determining the range of values in the y in order to obtain some notion of model performance. \n",
    "y_test.max() - y_test.min()"
   ]
  },
  {
   "cell_type": "code",
   "execution_count": null,
   "id": "8b9f0d87",
   "metadata": {},
   "outputs": [],
   "source": [
    "# calculating the average error for the predictions (Mean Absolute Error).\n",
    "print('Out-of-sample MAE: {:3f}'.format(mean_absolute_error(y_test,y_predicted)))"
   ]
  },
  {
   "cell_type": "code",
   "execution_count": null,
   "id": "e3cde15e",
   "metadata": {},
   "outputs": [],
   "source": [
    "#calculating r2 using sklearn\n",
    "from sklearn.metrics import r2_score\n",
    "print(r2_score(y_test,y_predicted))"
   ]
  },
  {
   "cell_type": "markdown",
   "id": "613e20dc",
   "metadata": {},
   "source": [
    "## Regression Model Dashboard"
   ]
  },
  {
   "cell_type": "code",
   "execution_count": null,
   "id": "2dd27430",
   "metadata": {},
   "outputs": [],
   "source": [
    "# importing the libraries for dashboard\n",
    "from sklearn.ensemble import RandomForestRegressor\n",
    "from explainerdashboard import RegressionExplainer, ExplainerDashboard\n",
    "import dash_bootstrap_components as dbc\n",
    "from sklearn.model_selection import train_test_split\n",
    "\n",
    "# Putting independent variables/features to X\n",
    "X = ie_agri_linear_encoded.drop('GDP_in_millions',axis=1)\n",
    "\n",
    "# Putting response/dependent variable/feature to y\n",
    "y = ie_agri_linear_encoded['GDP_in_millions']\n",
    "\n",
    "X_train, X_test, y_train, y_test = train_test_split(X, y, test_size=0.2, random_state=1)\n",
    "print(X_train.shape,y_train.shape,X_test.shape,y_test.shape)"
   ]
  },
  {
   "cell_type": "code",
   "execution_count": null,
   "id": "a076405b",
   "metadata": {},
   "outputs": [],
   "source": [
    "# showing the y_train \n",
    "y_train"
   ]
  },
  {
   "cell_type": "code",
   "execution_count": null,
   "id": "602f5cba",
   "metadata": {},
   "outputs": [],
   "source": [
    "# fitting the model\n",
    "model = RandomForestRegressor(n_estimators=50, max_depth=5)\n",
    "model.fit(X_train, y_train.values.ravel())"
   ]
  },
  {
   "cell_type": "code",
   "execution_count": null,
   "id": "d0aed8b5",
   "metadata": {},
   "outputs": [],
   "source": [
    "# calling the model function\n",
    "explainer = RegressionExplainer(model, X_test, y_test)\n",
    "\n",
    "db = ExplainerDashboard(explainer, \n",
    "                        title=\"Ireland's Agricultural Output\", # defaults to \"Model Explainer\"\n",
    "                        whatif=False\n",
    "                        \n",
    "                        )\n",
    "\n",
    "ExplainerDashboard(explainer,mode='inline').run()"
   ]
  },
  {
   "cell_type": "markdown",
   "id": "5d6078f6",
   "metadata": {},
   "source": [
    "# Sarimax Time Series Model - Ireland"
   ]
  },
  {
   "cell_type": "code",
   "execution_count": null,
   "id": "da518bbf",
   "metadata": {},
   "outputs": [],
   "source": [
    "#Select the variables\n",
    "ie_sarimax = ie_agri.loc[:, ['Time', 'GDP_in_millions','Cereals_(including_seeds)', 'Cattle', 'Cattle_excluding_calves','Calves', 'Pigs', 'Sheep_and_goats','Poultry', 'Animal_products', 'Milk', 'Eggs']]\n",
    "ie_sarimax.head()"
   ]
  },
  {
   "cell_type": "code",
   "execution_count": null,
   "id": "0106ef17",
   "metadata": {},
   "outputs": [],
   "source": [
    "# setting Time to datetime\n",
    "ie_sarimax.index = pd.to_datetime(ie_sarimax['Time'])\n",
    "ie_sarimax.drop(columns='Time',inplace=True)\n",
    "ie_sarimax"
   ]
  },
  {
   "cell_type": "code",
   "execution_count": null,
   "id": "65369ab3",
   "metadata": {},
   "outputs": [],
   "source": [
    "#Visualisation\n",
    "ie_sarimax['GDP_in_millions'].plot(figsize = (10, 7), legend = True)"
   ]
  },
  {
   "cell_type": "code",
   "execution_count": null,
   "id": "a68386ac",
   "metadata": {},
   "outputs": [],
   "source": [
    "#Stationarity\n",
    "from statsmodels.tsa.stattools import adfuller\n",
    "stationarity = adfuller(ie_sarimax['GDP_in_millions'])\n",
    "stationarity\n",
    "#print('Dickey Fuller p-value: %F' % stationarity[1])\n",
    "#the p-value result is > 0.05, data is not stationary, so need to work on the data to make it stationary for the analysis"
   ]
  },
  {
   "cell_type": "code",
   "execution_count": null,
   "id": "89f33417",
   "metadata": {},
   "outputs": [],
   "source": [
    "#Training and test set\n",
    "test_time = 12\n",
    "training_set = ie_sarimax.iloc[:-test_time, :]\n",
    "test_set = ie_sarimax.iloc[-test_time:, :]\n",
    "test_set.tail(5)"
   ]
  },
  {
   "cell_type": "code",
   "execution_count": null,
   "id": "e8fbea19",
   "metadata": {},
   "outputs": [],
   "source": [
    "#SARIMAX\n",
    "#exogenous variables\n",
    "train_exog = training_set.iloc[:,1:]\n",
    "test_exog = test_set.iloc[:,1:]\n",
    "test_exog.head()"
   ]
  },
  {
   "cell_type": "code",
   "execution_count": null,
   "id": "b7b93326",
   "metadata": {},
   "outputs": [],
   "source": [
    "#Import especial library\n",
    "from pmdarima import auto_arima"
   ]
  },
  {
   "cell_type": "code",
   "execution_count": null,
   "id": "7168bbbf",
   "metadata": {},
   "outputs": [],
   "source": [
    "#Forecasting model\n",
    "model = auto_arima(y = training_set['GDP_in_millions'],\n",
    "                   X = train_exog,\n",
    "                   m = 7,\n",
    "                   seasonal = True,\n",
    "                   stepwise = False)"
   ]
  },
  {
   "cell_type": "code",
   "execution_count": null,
   "id": "259333b2",
   "metadata": {},
   "outputs": [],
   "source": [
    "#Information of the model\n",
    "model.summary()"
   ]
  },
  {
   "cell_type": "code",
   "execution_count": null,
   "id": "68ca707d",
   "metadata": {},
   "outputs": [],
   "source": [
    "#Predictions\n",
    "predictions_sarimax = pd.Series(model.predict(n_periods= test_time,\n",
    "                              X = test_exog)).rename(\"SARIMAX\")\n",
    "predictions_sarimax.index = test_set.index                              \n",
    "predictions_sarimax"
   ]
  },
  {
   "cell_type": "code",
   "execution_count": null,
   "id": "f4976515",
   "metadata": {},
   "outputs": [],
   "source": [
    "#Visualisation of the model\n",
    "training_set['GDP_in_millions']['2007-01-01':].plot(figsize = (9,6), legend = True)\n",
    "test_set['GDP_in_millions'].plot(legend = True)\n",
    "predictions_sarimax.plot(legend = True);"
   ]
  },
  {
   "cell_type": "code",
   "execution_count": null,
   "id": "271d369d",
   "metadata": {},
   "outputs": [],
   "source": [
    "#MODEL ASSESSMENT\n",
    "#MAE and RMSE\n",
    "from sklearn.metrics import mean_squared_error, mean_absolute_error\n",
    "print(round(mean_absolute_error(test_set['GDP_in_millions'], predictions_sarimax),0))\n",
    "print(round(np.sqrt(mean_squared_error(test_set['GDP_in_millions'], predictions_sarimax)), 0))"
   ]
  },
  {
   "cell_type": "code",
   "execution_count": null,
   "id": "6ea63d92",
   "metadata": {},
   "outputs": [],
   "source": [
    "#MAPE function\n",
    "def MAPE(y_true, y_pred):\n",
    "  y_true, y_pred = np.array(y_true), np.array(y_pred)\n",
    "  return np.mean(np.abs((y_true - y_pred) / y_true)) * 100\n",
    "MAPE(test_set['GDP_in_millions'], predictions_sarimax)"
   ]
  },
  {
   "cell_type": "markdown",
   "id": "6f59c532",
   "metadata": {},
   "source": [
    "# Sarimax Time Series Model - Denmark"
   ]
  },
  {
   "cell_type": "code",
   "execution_count": null,
   "id": "60e36275",
   "metadata": {},
   "outputs": [],
   "source": [
    "#Select the variables\n",
    "dk_sarimax = dk_agri.loc[:, ['Time', 'GDP_in_millions','Cereals_(including_seeds)', 'Cattle', 'Cattle_excluding_calves','Calves', 'Pigs', 'Sheep_and_goats','Poultry', 'Animal_products', 'Milk', 'Eggs']]\n",
    "dk_sarimax.head()"
   ]
  },
  {
   "cell_type": "code",
   "execution_count": null,
   "id": "7dfb7e1c",
   "metadata": {},
   "outputs": [],
   "source": [
    "# setting Time to datetime\n",
    "dk_sarimax.index = pd.to_datetime(dk_sarimax['Time'])\n",
    "dk_sarimax.drop(columns='Time',inplace=True)\n",
    "dk_sarimax"
   ]
  },
  {
   "cell_type": "code",
   "execution_count": null,
   "id": "01472de1",
   "metadata": {},
   "outputs": [],
   "source": [
    "#Visualisation\n",
    "dk_sarimax['GDP_in_millions'].plot(figsize = (10, 7), legend = True);"
   ]
  },
  {
   "cell_type": "code",
   "execution_count": null,
   "id": "61f85b21",
   "metadata": {},
   "outputs": [],
   "source": [
    "#Stationarity\n",
    "from statsmodels.tsa.stattools import adfuller\n",
    "stationarity = adfuller(ie_sarimax['GDP_in_millions'])\n",
    "stationarity\n",
    "#print('Dickey Fuller p-value: %F' % stationarity[1])\n",
    "#the p-value result is > 0.05, data is not stationary, so need to work on the data to make it stationary for the analysis"
   ]
  },
  {
   "cell_type": "code",
   "execution_count": null,
   "id": "c8bf57cb",
   "metadata": {},
   "outputs": [],
   "source": [
    "#Training and test set\n",
    "test_time = 12\n",
    "training_set = dk_sarimax.iloc[:-test_time, :]\n",
    "test_set = dk_sarimax.iloc[-test_time:, :]\n",
    "test_set.tail(5)"
   ]
  },
  {
   "cell_type": "code",
   "execution_count": null,
   "id": "23da7d4c",
   "metadata": {},
   "outputs": [],
   "source": [
    "#SARIMAX\n",
    "#exogenous variables\n",
    "train_exog = training_set.iloc[:,1:]\n",
    "test_exog = test_set.iloc[:,1:]\n",
    "test_exog.head()"
   ]
  },
  {
   "cell_type": "code",
   "execution_count": null,
   "id": "740a7236",
   "metadata": {},
   "outputs": [],
   "source": [
    "#Import especial library\n",
    "from pmdarima import auto_arima"
   ]
  },
  {
   "cell_type": "code",
   "execution_count": null,
   "id": "5b7b2502",
   "metadata": {},
   "outputs": [],
   "source": [
    "#Forecasting model\n",
    "model = auto_arima(y = training_set['GDP_in_millions'],\n",
    "                   X = train_exog,\n",
    "                   m = 7,\n",
    "                   seasonal = True,\n",
    "                   stepwise = False)"
   ]
  },
  {
   "cell_type": "code",
   "execution_count": null,
   "id": "8945531a",
   "metadata": {},
   "outputs": [],
   "source": [
    "#Information of the model\n",
    "model.summary()"
   ]
  },
  {
   "cell_type": "code",
   "execution_count": null,
   "id": "75073ff9",
   "metadata": {},
   "outputs": [],
   "source": [
    "#Predictions\n",
    "predictions_sarimax = pd.Series(model.predict(n_periods= test_time,\n",
    "                              X = test_exog)).rename(\"SARIMAX\")\n",
    "predictions_sarimax.index = test_set.index                              \n",
    "predictions_sarimax"
   ]
  },
  {
   "cell_type": "code",
   "execution_count": null,
   "id": "56f757ba",
   "metadata": {},
   "outputs": [],
   "source": [
    "#Visualisation of the model\n",
    "training_set['GDP_in_millions']['2007-01-01':].plot(figsize = (9,6), legend = True)\n",
    "test_set['GDP_in_millions'].plot(legend = True)\n",
    "predictions_sarimax.plot(legend = True);"
   ]
  },
  {
   "cell_type": "code",
   "execution_count": null,
   "id": "83f639d8",
   "metadata": {},
   "outputs": [],
   "source": [
    "#MODEL ASSESSMENT\n",
    "#MAE and RMSE\n",
    "from sklearn.metrics import mean_squared_error, mean_absolute_error\n",
    "print(round(mean_absolute_error(test_set['GDP_in_millions'], predictions_sarimax),0))\n",
    "print(round(np.sqrt(mean_squared_error(test_set['GDP_in_millions'], predictions_sarimax)), 0))"
   ]
  },
  {
   "cell_type": "code",
   "execution_count": null,
   "id": "b31b2913",
   "metadata": {},
   "outputs": [],
   "source": [
    "#MAPE function\n",
    "def MAPE(y_true, y_pred):\n",
    "  y_true, y_pred = np.array(y_true), np.array(y_pred)\n",
    "  return np.mean(np.abs((y_true - y_pred) / y_true)) * 100\n",
    "MAPE(test_set['GDP_in_millions'], predictions_sarimax)"
   ]
  },
  {
   "cell_type": "markdown",
   "id": "2271bcb2",
   "metadata": {},
   "source": [
    "# TBATS Time Series - Ireland"
   ]
  },
  {
   "cell_type": "code",
   "execution_count": null,
   "id": "9939adc8",
   "metadata": {},
   "outputs": [],
   "source": [
    "#Select the variables\n",
    "ie_tbats = ie_agri.loc[:, ['Time', 'GDP_in_millions','Cereals_(including_seeds)', 'Cattle', 'Cattle_excluding_calves','Calves', 'Pigs', 'Sheep_and_goats','Poultry', 'Animal_products', 'Milk', 'Eggs']]\n",
    "ie_tbats.head()"
   ]
  },
  {
   "cell_type": "code",
   "execution_count": null,
   "id": "3fcefbe2",
   "metadata": {},
   "outputs": [],
   "source": [
    "# converting time to datetime\n",
    "ie_tbats.index = pd.to_datetime(ie_tbats['Time'])\n",
    "ie_tbats.drop(columns='Time',inplace=True)"
   ]
  },
  {
   "cell_type": "code",
   "execution_count": null,
   "id": "c614692a",
   "metadata": {},
   "outputs": [],
   "source": [
    "#Visualisation\n",
    "ie_tbats['GDP_in_millions'].plot(figsize = (10, 7), legend = True)"
   ]
  },
  {
   "cell_type": "code",
   "execution_count": null,
   "id": "4a8326e7",
   "metadata": {},
   "outputs": [],
   "source": [
    "#Training and test set \n",
    "test_time = 12\n",
    "training_set = ie_tbats.iloc[:-test_time, :]\n",
    "test_set = ie_tbats.iloc[-test_time:, :]"
   ]
  },
  {
   "cell_type": "code",
   "execution_count": null,
   "id": "7975bc91",
   "metadata": {},
   "outputs": [],
   "source": [
    "#Importing library\n",
    "from tbats import TBATS"
   ]
  },
  {
   "cell_type": "code",
   "execution_count": null,
   "id": "f931d53f",
   "metadata": {},
   "outputs": [],
   "source": [
    "#TBATS model\n",
    "model = TBATS(use_trend = True, seasonal_periods = [4, 15])\n",
    "model = model.fit(training_set['GDP_in_millions'])\n",
    "\n",
    "#seasonal_periods: quarterly pattern"
   ]
  },
  {
   "cell_type": "code",
   "execution_count": null,
   "id": "6a096a23",
   "metadata": {},
   "outputs": [],
   "source": [
    "# performing predictions\n",
    "predictions_tbats = model.forecast(steps = len(test_set))\n",
    "predictions_tbats"
   ]
  },
  {
   "cell_type": "code",
   "execution_count": null,
   "id": "7ec76a24",
   "metadata": {},
   "outputs": [],
   "source": [
    "# perform predictions and use Pandas to give structure to the data\n",
    "predictions_tbats = pd.Series(model.forecast(steps = len(test_set)))\n",
    "predictions_tbats.head()"
   ]
  },
  {
   "cell_type": "code",
   "execution_count": null,
   "id": "bda1626d",
   "metadata": {},
   "outputs": [],
   "source": [
    "# perform predictions, use Pandas to give structure to the data, rename the prediction and set the index\n",
    "predictions_tbats = pd.Series(model.forecast(steps = len(test_set))).rename(\"TBATS\")\n",
    "predictions_tbats.index = test_set.index\n",
    "predictions_tbats.head()"
   ]
  },
  {
   "cell_type": "code",
   "execution_count": null,
   "id": "38b5d7b5",
   "metadata": {},
   "outputs": [],
   "source": [
    "#Visualisation of the model\n",
    "training_set['GDP_in_millions']['2007-01-01':].plot(figsize = (9,6), legend = True)\n",
    "test_set['GDP_in_millions'].plot(legend = True)\n",
    "predictions_tbats.plot(legend = True);"
   ]
  },
  {
   "cell_type": "code",
   "execution_count": null,
   "id": "6a3e207b",
   "metadata": {},
   "outputs": [],
   "source": [
    "# using MAE and RMSE again\n",
    "from sklearn.metrics import mean_squared_error, mean_absolute_error\n",
    "print(round(mean_absolute_error(test_set['GDP_in_millions'], predictions_tbats),0))\n",
    "print(round(np.sqrt(mean_squared_error(test_set['GDP_in_millions'], predictions_tbats)), 0))"
   ]
  },
  {
   "cell_type": "code",
   "execution_count": null,
   "id": "40363bc9",
   "metadata": {},
   "outputs": [],
   "source": [
    "#MAPE function\n",
    "def MAPE(y_true, y_pred):\n",
    "  y_true, y_pred = np.array(y_true), np.array(y_pred)\n",
    "  return np.mean(np.abs((y_true - y_pred) / y_true)) * 100\n",
    "MAPE(test_set['GDP_in_millions'], predictions_tbats)"
   ]
  },
  {
   "cell_type": "markdown",
   "id": "a6d2f8d6",
   "metadata": {},
   "source": [
    "# TBATS Time Series Model - Denmark"
   ]
  },
  {
   "cell_type": "code",
   "execution_count": null,
   "id": "739176ba",
   "metadata": {},
   "outputs": [],
   "source": [
    "#Select the variables\n",
    "dk_tbats = dk_agri.loc[:, ['Time', 'GDP_in_millions','Cereals_(including_seeds)', 'Cattle', 'Cattle_excluding_calves','Calves', 'Pigs', 'Sheep_and_goats','Poultry', 'Animal_products', 'Milk', 'Eggs']]\n",
    "dk_tbats.head()"
   ]
  },
  {
   "cell_type": "code",
   "execution_count": null,
   "id": "2e918660",
   "metadata": {},
   "outputs": [],
   "source": [
    "# converting time to datetime\n",
    "dk_tbats.index = pd.to_datetime(dk_tbats['Time'])\n",
    "dk_tbats.drop(columns='Time',inplace=True)"
   ]
  },
  {
   "cell_type": "code",
   "execution_count": null,
   "id": "b9aac2dc",
   "metadata": {},
   "outputs": [],
   "source": [
    "#Visualisation\n",
    "dk_tbats['GDP_in_millions'].plot(figsize = (10, 7), legend = True)"
   ]
  },
  {
   "cell_type": "code",
   "execution_count": null,
   "id": "f727d702",
   "metadata": {},
   "outputs": [],
   "source": [
    "#Training and test set \n",
    "test_time = 12\n",
    "training_set = dk_tbats.iloc[:-test_time, :]\n",
    "test_set = dk_tbats.iloc[-test_time:, :]"
   ]
  },
  {
   "cell_type": "code",
   "execution_count": null,
   "id": "19cbfdb9",
   "metadata": {},
   "outputs": [],
   "source": [
    "#Importing library\n",
    "from tbats import TBATS"
   ]
  },
  {
   "cell_type": "code",
   "execution_count": null,
   "id": "0b4400b1",
   "metadata": {},
   "outputs": [],
   "source": [
    "#TBATS model\n",
    "model = TBATS(use_trend = True, seasonal_periods = [4, 15])\n",
    "model = model.fit(training_set['GDP_in_millions'])\n",
    "\n",
    "#seasonal_periods: quarterly pattern"
   ]
  },
  {
   "cell_type": "code",
   "execution_count": null,
   "id": "9de4ee5c",
   "metadata": {},
   "outputs": [],
   "source": [
    "# performing predictions\n",
    "predictions_tbats = model.forecast(steps = len(test_set))\n",
    "predictions_tbats"
   ]
  },
  {
   "cell_type": "code",
   "execution_count": null,
   "id": "60d2e329",
   "metadata": {},
   "outputs": [],
   "source": [
    "# perform predictions and use Pandas to give structure to the data\n",
    "predictions_tbats = pd.Series(model.forecast(steps = len(test_set)))\n",
    "predictions_tbats.head()"
   ]
  },
  {
   "cell_type": "code",
   "execution_count": null,
   "id": "efbcd9c6",
   "metadata": {},
   "outputs": [],
   "source": [
    "# perform predictions, use Pandas to give structure to the data, rename the prediction and set the index\n",
    "predictions_tbats = pd.Series(model.forecast(steps = len(test_set))).rename(\"TBATS\")\n",
    "predictions_tbats.index = test_set.index\n",
    "predictions_tbats.head()"
   ]
  },
  {
   "cell_type": "code",
   "execution_count": null,
   "id": "831651c8",
   "metadata": {},
   "outputs": [],
   "source": [
    "#Visualisation of the model\n",
    "training_set['GDP_in_millions']['2007-01-01':].plot(figsize = (9,6), legend = True)\n",
    "test_set['GDP_in_millions'].plot(legend = True)\n",
    "predictions_tbats.plot(legend = True);"
   ]
  },
  {
   "cell_type": "code",
   "execution_count": null,
   "id": "0fdccc47",
   "metadata": {},
   "outputs": [],
   "source": [
    "# using MAE and RMSE again\n",
    "from sklearn.metrics import mean_squared_error, mean_absolute_error\n",
    "print(round(mean_absolute_error(test_set['GDP_in_millions'], predictions_tbats),0))\n",
    "print(round(np.sqrt(mean_squared_error(test_set['GDP_in_millions'], predictions_tbats)), 0))"
   ]
  },
  {
   "cell_type": "code",
   "execution_count": null,
   "id": "1cc2bc53",
   "metadata": {},
   "outputs": [],
   "source": [
    "#MAPE function\n",
    "def MAPE(y_true, y_pred):\n",
    "  y_true, y_pred = np.array(y_true), np.array(y_pred)\n",
    "  return np.mean(np.abs((y_true - y_pred) / y_true)) * 100\n",
    "MAPE(test_set['GDP_in_millions'], predictions_tbats)"
   ]
  }
 ],
 "metadata": {
  "kernelspec": {
   "display_name": "Python 3 (ipykernel)",
   "language": "python",
   "name": "python3"
  },
  "language_info": {
   "codemirror_mode": {
    "name": "ipython",
    "version": 3
   },
   "file_extension": ".py",
   "mimetype": "text/x-python",
   "name": "python",
   "nbconvert_exporter": "python",
   "pygments_lexer": "ipython3",
   "version": "3.9.7"
  },
  "toc": {
   "base_numbering": 1,
   "nav_menu": {},
   "number_sections": true,
   "sideBar": true,
   "skip_h1_title": false,
   "title_cell": "Table of Contents",
   "title_sidebar": "Contents",
   "toc_cell": false,
   "toc_position": {},
   "toc_section_display": true,
   "toc_window_display": true
  }
 },
 "nbformat": 4,
 "nbformat_minor": 5
}
